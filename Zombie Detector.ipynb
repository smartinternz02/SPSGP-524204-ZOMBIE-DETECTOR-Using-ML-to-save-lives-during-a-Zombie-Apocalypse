{
 "cells": [
  {
   "cell_type": "markdown",
   "id": "6fd4e45f",
   "metadata": {},
   "source": [
    "# Importing Libraries"
   ]
  },
  {
   "cell_type": "code",
   "execution_count": 1,
   "id": "922d9f8d",
   "metadata": {},
   "outputs": [],
   "source": [
    "import numpy as np\n",
    "import pandas as pd\n",
    "import matplotlib.pyplot as plt\n",
    "import seaborn as sns\n",
    "import warnings\n",
    "warnings.filterwarnings('ignore')"
   ]
  },
  {
   "cell_type": "code",
   "execution_count": 2,
   "id": "92d89eb8",
   "metadata": {
    "scrolled": true
   },
   "outputs": [
    {
     "data": {
      "text/html": [
       "<div>\n",
       "<style scoped>\n",
       "    .dataframe tbody tr th:only-of-type {\n",
       "        vertical-align: middle;\n",
       "    }\n",
       "\n",
       "    .dataframe tbody tr th {\n",
       "        vertical-align: top;\n",
       "    }\n",
       "\n",
       "    .dataframe thead th {\n",
       "        text-align: right;\n",
       "    }\n",
       "</style>\n",
       "<table border=\"1\" class=\"dataframe\">\n",
       "  <thead>\n",
       "    <tr style=\"text-align: right;\">\n",
       "      <th></th>\n",
       "      <th>zombieid</th>\n",
       "      <th>zombie</th>\n",
       "      <th>age</th>\n",
       "      <th>sex</th>\n",
       "      <th>rurality</th>\n",
       "      <th>household</th>\n",
       "      <th>water</th>\n",
       "      <th>food</th>\n",
       "      <th>medication</th>\n",
       "      <th>tools</th>\n",
       "      <th>firstaid</th>\n",
       "      <th>sanitation</th>\n",
       "      <th>clothing</th>\n",
       "      <th>documents</th>\n",
       "    </tr>\n",
       "  </thead>\n",
       "  <tbody>\n",
       "    <tr>\n",
       "      <th>0</th>\n",
       "      <td>1</td>\n",
       "      <td>Human</td>\n",
       "      <td>18</td>\n",
       "      <td>Female</td>\n",
       "      <td>Rural</td>\n",
       "      <td>1</td>\n",
       "      <td>0</td>\n",
       "      <td>Food</td>\n",
       "      <td>Medication</td>\n",
       "      <td>No tools</td>\n",
       "      <td>First aid supplies</td>\n",
       "      <td>Sanitation</td>\n",
       "      <td>Clothing</td>\n",
       "      <td>NaN</td>\n",
       "    </tr>\n",
       "    <tr>\n",
       "      <th>1</th>\n",
       "      <td>2</td>\n",
       "      <td>Human</td>\n",
       "      <td>18</td>\n",
       "      <td>Male</td>\n",
       "      <td>Rural</td>\n",
       "      <td>3</td>\n",
       "      <td>24</td>\n",
       "      <td>Food</td>\n",
       "      <td>Medication</td>\n",
       "      <td>tools</td>\n",
       "      <td>First aid supplies</td>\n",
       "      <td>Sanitation</td>\n",
       "      <td>Clothing</td>\n",
       "      <td>NaN</td>\n",
       "    </tr>\n",
       "    <tr>\n",
       "      <th>2</th>\n",
       "      <td>3</td>\n",
       "      <td>Human</td>\n",
       "      <td>18</td>\n",
       "      <td>Male</td>\n",
       "      <td>Rural</td>\n",
       "      <td>4</td>\n",
       "      <td>16</td>\n",
       "      <td>Food</td>\n",
       "      <td>Medication</td>\n",
       "      <td>No tools</td>\n",
       "      <td>First aid supplies</td>\n",
       "      <td>Sanitation</td>\n",
       "      <td>Clothing</td>\n",
       "      <td>NaN</td>\n",
       "    </tr>\n",
       "    <tr>\n",
       "      <th>3</th>\n",
       "      <td>4</td>\n",
       "      <td>Human</td>\n",
       "      <td>19</td>\n",
       "      <td>Male</td>\n",
       "      <td>Rural</td>\n",
       "      <td>1</td>\n",
       "      <td>0</td>\n",
       "      <td>Food</td>\n",
       "      <td>Medication</td>\n",
       "      <td>tools</td>\n",
       "      <td>No first aid supplies</td>\n",
       "      <td>Sanitation</td>\n",
       "      <td>Clothing</td>\n",
       "      <td>NaN</td>\n",
       "    </tr>\n",
       "    <tr>\n",
       "      <th>4</th>\n",
       "      <td>5</td>\n",
       "      <td>Human</td>\n",
       "      <td>19</td>\n",
       "      <td>Male</td>\n",
       "      <td>Urban</td>\n",
       "      <td>1</td>\n",
       "      <td>0</td>\n",
       "      <td>Food</td>\n",
       "      <td>Medication</td>\n",
       "      <td>No tools</td>\n",
       "      <td>First aid supplies</td>\n",
       "      <td>Sanitation</td>\n",
       "      <td>NaN</td>\n",
       "      <td>NaN</td>\n",
       "    </tr>\n",
       "    <tr>\n",
       "      <th>...</th>\n",
       "      <td>...</td>\n",
       "      <td>...</td>\n",
       "      <td>...</td>\n",
       "      <td>...</td>\n",
       "      <td>...</td>\n",
       "      <td>...</td>\n",
       "      <td>...</td>\n",
       "      <td>...</td>\n",
       "      <td>...</td>\n",
       "      <td>...</td>\n",
       "      <td>...</td>\n",
       "      <td>...</td>\n",
       "      <td>...</td>\n",
       "      <td>...</td>\n",
       "    </tr>\n",
       "    <tr>\n",
       "      <th>195</th>\n",
       "      <td>196</td>\n",
       "      <td>Zombie</td>\n",
       "      <td>68</td>\n",
       "      <td>Male</td>\n",
       "      <td>Suburban</td>\n",
       "      <td>1</td>\n",
       "      <td>0</td>\n",
       "      <td>Food</td>\n",
       "      <td>No medication</td>\n",
       "      <td>No tools</td>\n",
       "      <td>No first aid supplies</td>\n",
       "      <td>Sanitation</td>\n",
       "      <td>Clothing</td>\n",
       "      <td>Documents</td>\n",
       "    </tr>\n",
       "    <tr>\n",
       "      <th>196</th>\n",
       "      <td>197</td>\n",
       "      <td>Zombie</td>\n",
       "      <td>71</td>\n",
       "      <td>Male</td>\n",
       "      <td>Suburban</td>\n",
       "      <td>1</td>\n",
       "      <td>8</td>\n",
       "      <td>No food</td>\n",
       "      <td>No medication</td>\n",
       "      <td>tools</td>\n",
       "      <td>First aid supplies</td>\n",
       "      <td>No sanitation</td>\n",
       "      <td>Clothing</td>\n",
       "      <td>NaN</td>\n",
       "    </tr>\n",
       "    <tr>\n",
       "      <th>197</th>\n",
       "      <td>198</td>\n",
       "      <td>Zombie</td>\n",
       "      <td>76</td>\n",
       "      <td>Female</td>\n",
       "      <td>Urban</td>\n",
       "      <td>1</td>\n",
       "      <td>0</td>\n",
       "      <td>No food</td>\n",
       "      <td>No medication</td>\n",
       "      <td>tools</td>\n",
       "      <td>First aid supplies</td>\n",
       "      <td>Sanitation</td>\n",
       "      <td>Clothing</td>\n",
       "      <td>Documents</td>\n",
       "    </tr>\n",
       "    <tr>\n",
       "      <th>198</th>\n",
       "      <td>199</td>\n",
       "      <td>Zombie</td>\n",
       "      <td>82</td>\n",
       "      <td>Male</td>\n",
       "      <td>Urban</td>\n",
       "      <td>1</td>\n",
       "      <td>0</td>\n",
       "      <td>No food</td>\n",
       "      <td>No medication</td>\n",
       "      <td>No tools</td>\n",
       "      <td>No first aid supplies</td>\n",
       "      <td>No sanitation</td>\n",
       "      <td>NaN</td>\n",
       "      <td>NaN</td>\n",
       "    </tr>\n",
       "    <tr>\n",
       "      <th>199</th>\n",
       "      <td>200</td>\n",
       "      <td>Zombie</td>\n",
       "      <td>85</td>\n",
       "      <td>Male</td>\n",
       "      <td>Urban</td>\n",
       "      <td>1</td>\n",
       "      <td>0</td>\n",
       "      <td>No food</td>\n",
       "      <td>Medication</td>\n",
       "      <td>No tools</td>\n",
       "      <td>No first aid supplies</td>\n",
       "      <td>Sanitation</td>\n",
       "      <td>Clothing</td>\n",
       "      <td>NaN</td>\n",
       "    </tr>\n",
       "  </tbody>\n",
       "</table>\n",
       "<p>200 rows × 14 columns</p>\n",
       "</div>"
      ],
      "text/plain": [
       "     zombieid  zombie  age     sex  rurality  household  water     food  \\\n",
       "0           1   Human   18  Female     Rural          1      0     Food   \n",
       "1           2   Human   18    Male     Rural          3     24     Food   \n",
       "2           3   Human   18    Male     Rural          4     16     Food   \n",
       "3           4   Human   19    Male     Rural          1      0     Food   \n",
       "4           5   Human   19    Male     Urban          1      0     Food   \n",
       "..        ...     ...  ...     ...       ...        ...    ...      ...   \n",
       "195       196  Zombie   68    Male  Suburban          1      0     Food   \n",
       "196       197  Zombie   71    Male  Suburban          1      8  No food   \n",
       "197       198  Zombie   76  Female     Urban          1      0  No food   \n",
       "198       199  Zombie   82    Male     Urban          1      0  No food   \n",
       "199       200  Zombie   85    Male     Urban          1      0  No food   \n",
       "\n",
       "        medication     tools               firstaid     sanitation  clothing  \\\n",
       "0       Medication  No tools     First aid supplies     Sanitation  Clothing   \n",
       "1       Medication     tools     First aid supplies     Sanitation  Clothing   \n",
       "2       Medication  No tools     First aid supplies     Sanitation  Clothing   \n",
       "3       Medication     tools  No first aid supplies     Sanitation  Clothing   \n",
       "4       Medication  No tools     First aid supplies     Sanitation       NaN   \n",
       "..             ...       ...                    ...            ...       ...   \n",
       "195  No medication  No tools  No first aid supplies     Sanitation  Clothing   \n",
       "196  No medication     tools     First aid supplies  No sanitation  Clothing   \n",
       "197  No medication     tools     First aid supplies     Sanitation  Clothing   \n",
       "198  No medication  No tools  No first aid supplies  No sanitation       NaN   \n",
       "199     Medication  No tools  No first aid supplies     Sanitation  Clothing   \n",
       "\n",
       "     documents  \n",
       "0          NaN  \n",
       "1          NaN  \n",
       "2          NaN  \n",
       "3          NaN  \n",
       "4          NaN  \n",
       "..         ...  \n",
       "195  Documents  \n",
       "196        NaN  \n",
       "197  Documents  \n",
       "198        NaN  \n",
       "199        NaN  \n",
       "\n",
       "[200 rows x 14 columns]"
      ]
     },
     "execution_count": 2,
     "metadata": {},
     "output_type": "execute_result"
    }
   ],
   "source": [
    "df = pd.read_csv(\"zombies.csv\")\n",
    "df"
   ]
  },
  {
   "cell_type": "code",
   "execution_count": 3,
   "id": "0bfbfae4",
   "metadata": {},
   "outputs": [
    {
     "data": {
      "text/plain": [
       "zombieid        0\n",
       "zombie          0\n",
       "age             0\n",
       "sex             0\n",
       "rurality        0\n",
       "household       0\n",
       "water           0\n",
       "food            0\n",
       "medication      0\n",
       "tools           0\n",
       "firstaid        0\n",
       "sanitation      0\n",
       "clothing       74\n",
       "documents     134\n",
       "dtype: int64"
      ]
     },
     "execution_count": 3,
     "metadata": {},
     "output_type": "execute_result"
    }
   ],
   "source": [
    "df.isnull().sum()"
   ]
  },
  {
   "cell_type": "code",
   "execution_count": 4,
   "id": "ac53d068",
   "metadata": {},
   "outputs": [
    {
     "data": {
      "text/plain": [
       "(200, 14)"
      ]
     },
     "execution_count": 4,
     "metadata": {},
     "output_type": "execute_result"
    }
   ],
   "source": [
    "df.shape"
   ]
  },
  {
   "cell_type": "code",
   "execution_count": 5,
   "id": "02dace62",
   "metadata": {},
   "outputs": [
    {
     "name": "stdout",
     "output_type": "stream",
     "text": [
      "<class 'pandas.core.frame.DataFrame'>\n",
      "RangeIndex: 200 entries, 0 to 199\n",
      "Data columns (total 14 columns):\n",
      " #   Column      Non-Null Count  Dtype \n",
      "---  ------      --------------  ----- \n",
      " 0   zombieid    200 non-null    int64 \n",
      " 1   zombie      200 non-null    object\n",
      " 2   age         200 non-null    int64 \n",
      " 3   sex         200 non-null    object\n",
      " 4   rurality    200 non-null    object\n",
      " 5   household   200 non-null    int64 \n",
      " 6   water       200 non-null    int64 \n",
      " 7   food        200 non-null    object\n",
      " 8   medication  200 non-null    object\n",
      " 9   tools       200 non-null    object\n",
      " 10  firstaid    200 non-null    object\n",
      " 11  sanitation  200 non-null    object\n",
      " 12  clothing    126 non-null    object\n",
      " 13  documents   66 non-null     object\n",
      "dtypes: int64(4), object(10)\n",
      "memory usage: 22.0+ KB\n"
     ]
    }
   ],
   "source": [
    "df.info()"
   ]
  },
  {
   "cell_type": "markdown",
   "id": "c6c64fba",
   "metadata": {},
   "source": [
    "# Visualisations"
   ]
  },
  {
   "cell_type": "code",
   "execution_count": 6,
   "id": "0c29b328",
   "metadata": {},
   "outputs": [
    {
     "data": {
      "image/png": "[encoded data removed]",
      "text/plain": [
       "<Figure size 640x480 with 1 Axes>"
      ]
     },
     "metadata": {},
     "output_type": "display_data"
    }
   ],
   "source": [
    "# Univariate Analysis\n",
    "# 1. Histogram\n",
    "sns.histplot(df['age'])\n",
    "plt.title('Histogram of Age')\n",
    "plt.show()"
   ]
  },
  {
   "cell_type": "code",
   "execution_count": 7,
   "id": "e2016598",
   "metadata": {},
   "outputs": [
    {
     "data": {
      "image/png": "[encoded data removed]",
      "text/plain": [
       "<Figure size 640x480 with 1 Axes>"
      ]
     },
     "metadata": {},
     "output_type": "display_data"
    }
   ],
   "source": [
    "# 2. Bar Plot\n",
    "sns.countplot(x='sex', data=df)\n",
    "plt.title('Bar Plot of Sex')\n",
    "plt.show()"
   ]
  },
  {
   "cell_type": "code",
   "execution_count": 8,
   "id": "3b3e431a",
   "metadata": {},
   "outputs": [
    {
     "data": {
      "image/png": "[encoded data removed]",
      "text/plain": [
       "<Figure size 640x480 with 1 Axes>"
      ]
     },
     "metadata": {},
     "output_type": "display_data"
    }
   ],
   "source": [
    "# Bivariate Analysis\n",
    "# 1. Box Plot\n",
    "sns.boxplot(x='rurality', y='age', data=df)\n",
    "plt.title('Box Plot of Age by Rurality')\n",
    "plt.show()"
   ]
  },
  {
   "cell_type": "code",
   "execution_count": 9,
   "id": "04599a45",
   "metadata": {},
   "outputs": [
    {
     "data": {
      "image/png": "[encoded data removed]",
      "text/plain": [
       "<Figure size 640x480 with 1 Axes>"
      ]
     },
     "metadata": {},
     "output_type": "display_data"
    }
   ],
   "source": [
    "# 2. Scatter Plot\n",
    "sns.scatterplot(x='age', y='household', hue='zombie', data=df)\n",
    "plt.title('Scatter Plot of Age vs Household')\n",
    "plt.show()"
   ]
  },
  {
   "cell_type": "code",
   "execution_count": 10,
   "id": "60471f56",
   "metadata": {},
   "outputs": [
    {
     "data": {
      "image/png": "[encoded data removed]",
      "text/plain": [
       "<Figure size 602.75x500 with 6 Axes>"
      ]
     },
     "metadata": {},
     "output_type": "display_data"
    }
   ],
   "source": [
    "# Multivariate Analysis\n",
    "# 1. Pair Plot\n",
    "sns.pairplot(df[['age', 'water', 'food', 'zombie']], hue='zombie')\n",
    "plt.show()"
   ]
  },
  {
   "cell_type": "code",
   "execution_count": 11,
   "id": "d75e4cba",
   "metadata": {},
   "outputs": [
    {
     "data": {
      "image/png": "[encoded data removed]",
      "text/plain": [
       "<Figure size 640x480 with 2 Axes>"
      ]
     },
     "metadata": {},
     "output_type": "display_data"
    }
   ],
   "source": [
    "# 2. Heatmap\n",
    "correlation_matrix = df[['age', 'household', 'water', 'zombie']].corr()\n",
    "sns.heatmap(correlation_matrix, annot=True, cmap='coolwarm')\n",
    "plt.title('Correlation Heatmap')\n",
    "plt.show()"
   ]
  },
  {
   "cell_type": "markdown",
   "id": "978d40e4",
   "metadata": {},
   "source": [
    "# Data Cleansing and Analysing"
   ]
  },
  {
   "cell_type": "code",
   "execution_count": 12,
   "id": "cb2e3c50",
   "metadata": {},
   "outputs": [],
   "source": [
    "# In the dataset it show Documents and No documents but here nan values are No documents and same thing applies to clothing \n",
    "# So we'll replace nan to the respective categorical column\n",
    "\n",
    "df['documents'].fillna(\"No Documents\", inplace=True)\n",
    "df['clothing'].fillna(\"No Clothing\", inplace=True)"
   ]
  },
  {
   "cell_type": "code",
   "execution_count": 13,
   "id": "92571e5b",
   "metadata": {},
   "outputs": [
    {
     "data": {
      "text/plain": [
       "Human     121\n",
       "Zombie     79\n",
       "Name: zombie, dtype: int64"
      ]
     },
     "execution_count": 13,
     "metadata": {},
     "output_type": "execute_result"
    }
   ],
   "source": [
    "df['zombie'].value_counts()"
   ]
  },
  {
   "cell_type": "code",
   "execution_count": 14,
   "id": "b07a773d",
   "metadata": {},
   "outputs": [
    {
     "data": {
      "text/plain": [
       "0.6528925619834711"
      ]
     },
     "execution_count": 14,
     "metadata": {},
     "output_type": "execute_result"
    }
   ],
   "source": [
    "79/121"
   ]
  },
  {
   "cell_type": "code",
   "execution_count": 15,
   "id": "8e134fee",
   "metadata": {},
   "outputs": [],
   "source": [
    "df['water/person'] = (df['water'] / df['household']).astype(int)"
   ]
  },
  {
   "cell_type": "code",
   "execution_count": 16,
   "id": "3b779c33",
   "metadata": {
    "scrolled": true
   },
   "outputs": [
    {
     "data": {
      "text/html": [
       "<div>\n",
       "<style scoped>\n",
       "    .dataframe tbody tr th:only-of-type {\n",
       "        vertical-align: middle;\n",
       "    }\n",
       "\n",
       "    .dataframe tbody tr th {\n",
       "        vertical-align: top;\n",
       "    }\n",
       "\n",
       "    .dataframe thead th {\n",
       "        text-align: right;\n",
       "    }\n",
       "</style>\n",
       "<table border=\"1\" class=\"dataframe\">\n",
       "  <thead>\n",
       "    <tr style=\"text-align: right;\">\n",
       "      <th></th>\n",
       "      <th>zombieid</th>\n",
       "      <th>zombie</th>\n",
       "      <th>age</th>\n",
       "      <th>sex</th>\n",
       "      <th>rurality</th>\n",
       "      <th>household</th>\n",
       "      <th>water</th>\n",
       "      <th>food</th>\n",
       "      <th>medication</th>\n",
       "      <th>tools</th>\n",
       "      <th>firstaid</th>\n",
       "      <th>sanitation</th>\n",
       "      <th>clothing</th>\n",
       "      <th>documents</th>\n",
       "      <th>water/person</th>\n",
       "    </tr>\n",
       "  </thead>\n",
       "  <tbody>\n",
       "    <tr>\n",
       "      <th>0</th>\n",
       "      <td>1</td>\n",
       "      <td>Human</td>\n",
       "      <td>18</td>\n",
       "      <td>Female</td>\n",
       "      <td>Rural</td>\n",
       "      <td>1</td>\n",
       "      <td>0</td>\n",
       "      <td>Food</td>\n",
       "      <td>Medication</td>\n",
       "      <td>No tools</td>\n",
       "      <td>First aid supplies</td>\n",
       "      <td>Sanitation</td>\n",
       "      <td>Clothing</td>\n",
       "      <td>No Documents</td>\n",
       "      <td>0</td>\n",
       "    </tr>\n",
       "    <tr>\n",
       "      <th>1</th>\n",
       "      <td>2</td>\n",
       "      <td>Human</td>\n",
       "      <td>18</td>\n",
       "      <td>Male</td>\n",
       "      <td>Rural</td>\n",
       "      <td>3</td>\n",
       "      <td>24</td>\n",
       "      <td>Food</td>\n",
       "      <td>Medication</td>\n",
       "      <td>tools</td>\n",
       "      <td>First aid supplies</td>\n",
       "      <td>Sanitation</td>\n",
       "      <td>Clothing</td>\n",
       "      <td>No Documents</td>\n",
       "      <td>8</td>\n",
       "    </tr>\n",
       "    <tr>\n",
       "      <th>2</th>\n",
       "      <td>3</td>\n",
       "      <td>Human</td>\n",
       "      <td>18</td>\n",
       "      <td>Male</td>\n",
       "      <td>Rural</td>\n",
       "      <td>4</td>\n",
       "      <td>16</td>\n",
       "      <td>Food</td>\n",
       "      <td>Medication</td>\n",
       "      <td>No tools</td>\n",
       "      <td>First aid supplies</td>\n",
       "      <td>Sanitation</td>\n",
       "      <td>Clothing</td>\n",
       "      <td>No Documents</td>\n",
       "      <td>4</td>\n",
       "    </tr>\n",
       "    <tr>\n",
       "      <th>3</th>\n",
       "      <td>4</td>\n",
       "      <td>Human</td>\n",
       "      <td>19</td>\n",
       "      <td>Male</td>\n",
       "      <td>Rural</td>\n",
       "      <td>1</td>\n",
       "      <td>0</td>\n",
       "      <td>Food</td>\n",
       "      <td>Medication</td>\n",
       "      <td>tools</td>\n",
       "      <td>No first aid supplies</td>\n",
       "      <td>Sanitation</td>\n",
       "      <td>Clothing</td>\n",
       "      <td>No Documents</td>\n",
       "      <td>0</td>\n",
       "    </tr>\n",
       "    <tr>\n",
       "      <th>4</th>\n",
       "      <td>5</td>\n",
       "      <td>Human</td>\n",
       "      <td>19</td>\n",
       "      <td>Male</td>\n",
       "      <td>Urban</td>\n",
       "      <td>1</td>\n",
       "      <td>0</td>\n",
       "      <td>Food</td>\n",
       "      <td>Medication</td>\n",
       "      <td>No tools</td>\n",
       "      <td>First aid supplies</td>\n",
       "      <td>Sanitation</td>\n",
       "      <td>No Clothing</td>\n",
       "      <td>No Documents</td>\n",
       "      <td>0</td>\n",
       "    </tr>\n",
       "  </tbody>\n",
       "</table>\n",
       "</div>"
      ],
      "text/plain": [
       "   zombieid zombie  age     sex rurality  household  water  food  medication  \\\n",
       "0         1  Human   18  Female    Rural          1      0  Food  Medication   \n",
       "1         2  Human   18    Male    Rural          3     24  Food  Medication   \n",
       "2         3  Human   18    Male    Rural          4     16  Food  Medication   \n",
       "3         4  Human   19    Male    Rural          1      0  Food  Medication   \n",
       "4         5  Human   19    Male    Urban          1      0  Food  Medication   \n",
       "\n",
       "      tools               firstaid  sanitation     clothing     documents  \\\n",
       "0  No tools     First aid supplies  Sanitation     Clothing  No Documents   \n",
       "1     tools     First aid supplies  Sanitation     Clothing  No Documents   \n",
       "2  No tools     First aid supplies  Sanitation     Clothing  No Documents   \n",
       "3     tools  No first aid supplies  Sanitation     Clothing  No Documents   \n",
       "4  No tools     First aid supplies  Sanitation  No Clothing  No Documents   \n",
       "\n",
       "   water/person  \n",
       "0             0  \n",
       "1             8  \n",
       "2             4  \n",
       "3             0  \n",
       "4             0  "
      ]
     },
     "execution_count": 16,
     "metadata": {},
     "output_type": "execute_result"
    }
   ],
   "source": [
    "df.head()"
   ]
  },
  {
   "cell_type": "code",
   "execution_count": 17,
   "id": "2ad21472",
   "metadata": {},
   "outputs": [
    {
     "data": {
      "text/html": [
       "<div>\n",
       "<style scoped>\n",
       "    .dataframe tbody tr th:only-of-type {\n",
       "        vertical-align: middle;\n",
       "    }\n",
       "\n",
       "    .dataframe tbody tr th {\n",
       "        vertical-align: top;\n",
       "    }\n",
       "\n",
       "    .dataframe thead th {\n",
       "        text-align: right;\n",
       "    }\n",
       "</style>\n",
       "<table border=\"1\" class=\"dataframe\">\n",
       "  <thead>\n",
       "    <tr style=\"text-align: right;\">\n",
       "      <th></th>\n",
       "      <th>zombieid</th>\n",
       "      <th>age</th>\n",
       "      <th>household</th>\n",
       "      <th>water</th>\n",
       "      <th>water/person</th>\n",
       "    </tr>\n",
       "  </thead>\n",
       "  <tbody>\n",
       "    <tr>\n",
       "      <th>count</th>\n",
       "      <td>200.000000</td>\n",
       "      <td>200.000000</td>\n",
       "      <td>200.000000</td>\n",
       "      <td>200.000000</td>\n",
       "      <td>200.000000</td>\n",
       "    </tr>\n",
       "    <tr>\n",
       "      <th>mean</th>\n",
       "      <td>100.500000</td>\n",
       "      <td>44.415000</td>\n",
       "      <td>2.680000</td>\n",
       "      <td>8.750000</td>\n",
       "      <td>3.015000</td>\n",
       "    </tr>\n",
       "    <tr>\n",
       "      <th>std</th>\n",
       "      <td>57.879185</td>\n",
       "      <td>17.371865</td>\n",
       "      <td>1.263162</td>\n",
       "      <td>12.069626</td>\n",
       "      <td>3.611091</td>\n",
       "    </tr>\n",
       "    <tr>\n",
       "      <th>min</th>\n",
       "      <td>1.000000</td>\n",
       "      <td>18.000000</td>\n",
       "      <td>1.000000</td>\n",
       "      <td>0.000000</td>\n",
       "      <td>0.000000</td>\n",
       "    </tr>\n",
       "    <tr>\n",
       "      <th>25%</th>\n",
       "      <td>50.750000</td>\n",
       "      <td>29.000000</td>\n",
       "      <td>2.000000</td>\n",
       "      <td>0.000000</td>\n",
       "      <td>0.000000</td>\n",
       "    </tr>\n",
       "    <tr>\n",
       "      <th>50%</th>\n",
       "      <td>100.500000</td>\n",
       "      <td>42.000000</td>\n",
       "      <td>2.500000</td>\n",
       "      <td>8.000000</td>\n",
       "      <td>2.000000</td>\n",
       "    </tr>\n",
       "    <tr>\n",
       "      <th>75%</th>\n",
       "      <td>150.250000</td>\n",
       "      <td>58.000000</td>\n",
       "      <td>4.000000</td>\n",
       "      <td>8.000000</td>\n",
       "      <td>5.000000</td>\n",
       "    </tr>\n",
       "    <tr>\n",
       "      <th>max</th>\n",
       "      <td>200.000000</td>\n",
       "      <td>85.000000</td>\n",
       "      <td>6.000000</td>\n",
       "      <td>40.000000</td>\n",
       "      <td>13.000000</td>\n",
       "    </tr>\n",
       "  </tbody>\n",
       "</table>\n",
       "</div>"
      ],
      "text/plain": [
       "         zombieid         age   household       water  water/person\n",
       "count  200.000000  200.000000  200.000000  200.000000    200.000000\n",
       "mean   100.500000   44.415000    2.680000    8.750000      3.015000\n",
       "std     57.879185   17.371865    1.263162   12.069626      3.611091\n",
       "min      1.000000   18.000000    1.000000    0.000000      0.000000\n",
       "25%     50.750000   29.000000    2.000000    0.000000      0.000000\n",
       "50%    100.500000   42.000000    2.500000    8.000000      2.000000\n",
       "75%    150.250000   58.000000    4.000000    8.000000      5.000000\n",
       "max    200.000000   85.000000    6.000000   40.000000     13.000000"
      ]
     },
     "execution_count": 17,
     "metadata": {},
     "output_type": "execute_result"
    }
   ],
   "source": [
    "df.describe()"
   ]
  },
  {
   "cell_type": "code",
   "execution_count": 18,
   "id": "3d5c3531",
   "metadata": {},
   "outputs": [
    {
     "data": {
      "image/png": "[encoded data removed]",
      "text/plain": [
       "<Figure size 1200x600 with 2 Axes>"
      ]
     },
     "metadata": {},
     "output_type": "display_data"
    }
   ],
   "source": [
    "fig, axes = plt.subplots(1, 2, figsize=(12, 6))\n",
    "fig.suptitle('Zombie Analysis')\n",
    "\n",
    "axes[0].set_title('Age Distribution of Zombies')\n",
    "axes[0].set_xlabel('Age')\n",
    "axes[0].set_ylabel('Density')\n",
    "sns.despine(ax=axes[0])\n",
    "sns.kdeplot(data=df, x='age', hue='zombie', fill=True, alpha=0.3, ax=axes[0])\n",
    "\n",
    "axes[1].set_title('Water per Person Distribution of Zombies')\n",
    "axes[1].set_xlabel('Water per Person')\n",
    "axes[1].set_ylabel('Density')\n",
    "sns.despine(ax=axes[1])\n",
    "sns.kdeplot(data=df, x='water/person', hue='zombie', fill=True, alpha=0.3, ax=axes[1])\n",
    "\n",
    "plt.tight_layout()\n",
    "plt.show()\n",
    "\n",
    "# We found that older people are mostly tend to become zombies and if people had lower water/person then they tend to become zombies"
   ]
  },
  {
   "cell_type": "code",
   "execution_count": 19,
   "id": "aba9626f",
   "metadata": {},
   "outputs": [
    {
     "name": "stdout",
     "output_type": "stream",
     "text": [
      "Column: zombie\n",
      "\n",
      "zombie  Human  Zombie\n",
      "zombie               \n",
      "Human     1.0     0.0\n",
      "Zombie    0.0     1.0\n",
      "\n",
      "Column: sex\n",
      "\n",
      "zombie     Human    Zombie\n",
      "sex                       \n",
      "Female  0.626263  0.373737\n",
      "Male    0.584158  0.415842\n",
      "\n",
      "Column: rurality\n",
      "\n",
      "zombie       Human    Zombie\n",
      "rurality                    \n",
      "Rural     0.816327  0.183673\n",
      "Suburban  0.520833  0.479167\n",
      "Urban     0.296296  0.703704\n",
      "\n",
      "Column: food\n",
      "\n",
      "zombie      Human    Zombie\n",
      "food                       \n",
      "Food     0.827273  0.172727\n",
      "No food  0.333333  0.666667\n",
      "\n",
      "Column: medication\n",
      "\n",
      "zombie            Human    Zombie\n",
      "medication                       \n",
      "Medication     0.829787  0.170213\n",
      "No medication  0.405660  0.594340\n",
      "\n",
      "Column: tools\n",
      "\n",
      "zombie       Human    Zombie\n",
      "tools                       \n",
      "No tools  0.603960  0.396040\n",
      "tools     0.606061  0.393939\n",
      "\n",
      "Column: firstaid\n",
      "\n",
      "zombie                    Human    Zombie\n",
      "firstaid                                 \n",
      "First aid supplies     0.632075  0.367925\n",
      "No first aid supplies  0.574468  0.425532\n",
      "\n",
      "Column: sanitation\n",
      "\n",
      "zombie            Human    Zombie\n",
      "sanitation                       \n",
      "No sanitation  0.470588  0.529412\n",
      "Sanitation     0.744898  0.255102\n",
      "\n",
      "Column: clothing\n",
      "\n",
      "zombie          Human    Zombie\n",
      "clothing                       \n",
      "Clothing     0.587302  0.412698\n",
      "No Clothing  0.635135  0.364865\n",
      "\n",
      "Column: documents\n",
      "\n",
      "zombie           Human    Zombie\n",
      "documents                       \n",
      "Documents     0.666667  0.333333\n",
      "No Documents  0.574627  0.425373\n",
      "\n"
     ]
    }
   ],
   "source": [
    "# Lets check the relationship for the categorical variables\n",
    "\n",
    "zombies_factors = df.select_dtypes(include='object')\n",
    "\n",
    "def get_percentage_zombies(column):\n",
    "    return pd.crosstab(column, df['zombie'], normalize='index')\n",
    "perc_zombies = {col: get_percentage_zombies(zombies_factors[col]) for col in zombies_factors.columns}\n",
    "for col, data in perc_zombies.items():\n",
    "    print(f\"Column: {col}\\n\")\n",
    "    print(data)\n",
    "    print()"
   ]
  },
  {
   "cell_type": "markdown",
   "id": "bd7b2429",
   "metadata": {},
   "source": [
    "70% of zombies are from urban and 18% of zombie from rural here the rurality has some relationship toward the target variable\n",
    "\n",
    "66% of people became zombie with no food supplies and 82% stayed human with food supplies so it has relationship toward the target variable\n",
    "\n",
    "With medication 82% stayed human and without medication 60% turned zombies so it has relation\n",
    "\n",
    "Let's use Chi-square test to find the relation statistically"
   ]
  },
  {
   "cell_type": "code",
   "execution_count": 20,
   "id": "c72927fe",
   "metadata": {},
   "outputs": [
    {
     "name": "stdout",
     "output_type": "stream",
     "text": [
      "Chi-squared test for column: zombie\n",
      "Chi-squared statistic: 195.83734981761486\n",
      "P-value: 1.6914614508255057e-44\n",
      "\n",
      "Chi-squared test for column: sex\n",
      "Chi-squared statistic: 0.21561105791508034\n",
      "P-value: 0.642404615632073\n",
      "\n",
      "Chi-squared test for column: rurality\n",
      "Chi-squared statistic: 41.270829681153536\n",
      "P-value: 1.0918254239553111e-09\n",
      "\n",
      "Chi-squared test for column: food\n",
      "Chi-squared statistic: 48.49013199259043\n",
      "P-value: 3.319550580750276e-12\n",
      "\n",
      "Chi-squared test for column: medication\n",
      "Chi-squared statistic: 35.747219123692034\n",
      "P-value: 2.246524119978906e-09\n",
      "\n",
      "Chi-squared test for column: tools\n",
      "Chi-squared statistic: 0.0\n",
      "P-value: 1.0\n",
      "\n",
      "Chi-squared test for column: firstaid\n",
      "Chi-squared statistic: 0.47178105643125123\n",
      "P-value: 0.49216893843204057\n",
      "\n",
      "Chi-squared test for column: sanitation\n",
      "Chi-squared statistic: 14.610225301544407\n",
      "P-value: 0.00013219530307131107\n",
      "\n",
      "Chi-squared test for column: clothing\n",
      "Chi-squared statistic: 0.26863801317196\n",
      "P-value: 0.604246871142675\n",
      "\n",
      "Chi-squared test for column: documents\n",
      "Chi-squared statistic: 1.2060497520008207\n",
      "P-value: 0.2721158718905511\n",
      "\n",
      "T-test for age\n",
      "T-statistic: -5.743184106907836\n",
      "P-value: 3.4572242673587934e-08\n",
      "\n",
      "T-test for water/person\n",
      "T-statistic: 5.060714935291661\n",
      "P-value: 9.511137399421297e-07\n",
      "\n"
     ]
    }
   ],
   "source": [
    "import pandas as pd\n",
    "from scipy.stats import chi2_contingency, ttest_ind\n",
    "\n",
    "# Update subset of factors\n",
    "zombies_factors = df.select_dtypes(include='object')\n",
    "\n",
    "# Chi-squared for categorical feature\n",
    "chi_zombies = {col: chi2_contingency(pd.crosstab(zombies_factors[col], df['zombie'])) for col in zombies_factors.columns}\n",
    "\n",
    "# T-tests for numeric features\n",
    "ttest_age = ttest_ind(df.loc[df['zombie'] == 'Human', 'age'], df.loc[df['zombie'] == 'Zombie', 'age'])\n",
    "ttest_water = ttest_ind(df.loc[df['zombie'] == 'Human', 'water/person'], df.loc[df['zombie'] == 'Zombie', 'water/person'])\n",
    "\n",
    "# Examine the results\n",
    "for col, result in chi_zombies.items():\n",
    "    print(f\"Chi-squared test for column: {col}\")\n",
    "    print(f\"Chi-squared statistic: {result[0]}\")\n",
    "    print(f\"P-value: {result[1]}\")\n",
    "    print()\n",
    "\n",
    "print(\"T-test for age\")\n",
    "print(f\"T-statistic: {ttest_age.statistic}\")\n",
    "print(f\"P-value: {ttest_age.pvalue}\")\n",
    "print()\n",
    "\n",
    "print(\"T-test for water/person\")\n",
    "print(f\"T-statistic: {ttest_water.statistic}\")\n",
    "print(f\"P-value: {ttest_water.pvalue}\")\n",
    "print()\n"
   ]
  },
  {
   "cell_type": "markdown",
   "id": "7e5fe7c1",
   "metadata": {},
   "source": [
    "If p<0.05 (5%) then that feature has strong relationship so here for numeric from density plot and from T-test we found that age and water/person have high relation\n",
    "\n",
    "For Categorical feature rurality,food,medication,sanitation have strong relationships\n",
    "\n",
    "So we take these feature while building the model"
   ]
  },
  {
   "cell_type": "code",
   "execution_count": 21,
   "id": "287d3213",
   "metadata": {
    "scrolled": true
   },
   "outputs": [
    {
     "data": {
      "text/html": [
       "<div>\n",
       "<style scoped>\n",
       "    .dataframe tbody tr th:only-of-type {\n",
       "        vertical-align: middle;\n",
       "    }\n",
       "\n",
       "    .dataframe tbody tr th {\n",
       "        vertical-align: top;\n",
       "    }\n",
       "\n",
       "    .dataframe thead th {\n",
       "        text-align: right;\n",
       "    }\n",
       "</style>\n",
       "<table border=\"1\" class=\"dataframe\">\n",
       "  <thead>\n",
       "    <tr style=\"text-align: right;\">\n",
       "      <th></th>\n",
       "      <th>zombie</th>\n",
       "      <th>age</th>\n",
       "      <th>rurality</th>\n",
       "      <th>food</th>\n",
       "      <th>medication</th>\n",
       "      <th>sanitation</th>\n",
       "      <th>water/person</th>\n",
       "    </tr>\n",
       "  </thead>\n",
       "  <tbody>\n",
       "    <tr>\n",
       "      <th>0</th>\n",
       "      <td>Human</td>\n",
       "      <td>18</td>\n",
       "      <td>Rural</td>\n",
       "      <td>Food</td>\n",
       "      <td>Medication</td>\n",
       "      <td>Sanitation</td>\n",
       "      <td>0</td>\n",
       "    </tr>\n",
       "    <tr>\n",
       "      <th>1</th>\n",
       "      <td>Human</td>\n",
       "      <td>18</td>\n",
       "      <td>Rural</td>\n",
       "      <td>Food</td>\n",
       "      <td>Medication</td>\n",
       "      <td>Sanitation</td>\n",
       "      <td>8</td>\n",
       "    </tr>\n",
       "    <tr>\n",
       "      <th>2</th>\n",
       "      <td>Human</td>\n",
       "      <td>18</td>\n",
       "      <td>Rural</td>\n",
       "      <td>Food</td>\n",
       "      <td>Medication</td>\n",
       "      <td>Sanitation</td>\n",
       "      <td>4</td>\n",
       "    </tr>\n",
       "    <tr>\n",
       "      <th>3</th>\n",
       "      <td>Human</td>\n",
       "      <td>19</td>\n",
       "      <td>Rural</td>\n",
       "      <td>Food</td>\n",
       "      <td>Medication</td>\n",
       "      <td>Sanitation</td>\n",
       "      <td>0</td>\n",
       "    </tr>\n",
       "    <tr>\n",
       "      <th>4</th>\n",
       "      <td>Human</td>\n",
       "      <td>19</td>\n",
       "      <td>Urban</td>\n",
       "      <td>Food</td>\n",
       "      <td>Medication</td>\n",
       "      <td>Sanitation</td>\n",
       "      <td>0</td>\n",
       "    </tr>\n",
       "  </tbody>\n",
       "</table>\n",
       "</div>"
      ],
      "text/plain": [
       "  zombie  age rurality  food  medication  sanitation  water/person\n",
       "0  Human   18    Rural  Food  Medication  Sanitation             0\n",
       "1  Human   18    Rural  Food  Medication  Sanitation             8\n",
       "2  Human   18    Rural  Food  Medication  Sanitation             4\n",
       "3  Human   19    Rural  Food  Medication  Sanitation             0\n",
       "4  Human   19    Urban  Food  Medication  Sanitation             0"
      ]
     },
     "execution_count": 21,
     "metadata": {},
     "output_type": "execute_result"
    }
   ],
   "source": [
    "df.drop(columns=['zombieid','sex','household','water','tools','firstaid','clothing','documents'],inplace = True)\n",
    "df.head()"
   ]
  },
  {
   "cell_type": "code",
   "execution_count": 22,
   "id": "edbce320",
   "metadata": {},
   "outputs": [],
   "source": [
    "X = pd.get_dummies(df.iloc[:,1:])\n",
    "y = df.iloc[:,0]"
   ]
  },
  {
   "cell_type": "code",
   "execution_count": 23,
   "id": "f29ca2cf",
   "metadata": {
    "scrolled": false
   },
   "outputs": [
    {
     "data": {
      "text/html": [
       "<div>\n",
       "<style scoped>\n",
       "    .dataframe tbody tr th:only-of-type {\n",
       "        vertical-align: middle;\n",
       "    }\n",
       "\n",
       "    .dataframe tbody tr th {\n",
       "        vertical-align: top;\n",
       "    }\n",
       "\n",
       "    .dataframe thead th {\n",
       "        text-align: right;\n",
       "    }\n",
       "</style>\n",
       "<table border=\"1\" class=\"dataframe\">\n",
       "  <thead>\n",
       "    <tr style=\"text-align: right;\">\n",
       "      <th></th>\n",
       "      <th>age</th>\n",
       "      <th>water/person</th>\n",
       "      <th>rurality_Rural</th>\n",
       "      <th>rurality_Suburban</th>\n",
       "      <th>rurality_Urban</th>\n",
       "      <th>food_Food</th>\n",
       "      <th>food_No food</th>\n",
       "      <th>medication_Medication</th>\n",
       "      <th>medication_No medication</th>\n",
       "      <th>sanitation_No sanitation</th>\n",
       "      <th>sanitation_Sanitation</th>\n",
       "    </tr>\n",
       "  </thead>\n",
       "  <tbody>\n",
       "    <tr>\n",
       "      <th>0</th>\n",
       "      <td>18</td>\n",
       "      <td>0</td>\n",
       "      <td>1</td>\n",
       "      <td>0</td>\n",
       "      <td>0</td>\n",
       "      <td>1</td>\n",
       "      <td>0</td>\n",
       "      <td>1</td>\n",
       "      <td>0</td>\n",
       "      <td>0</td>\n",
       "      <td>1</td>\n",
       "    </tr>\n",
       "    <tr>\n",
       "      <th>1</th>\n",
       "      <td>18</td>\n",
       "      <td>8</td>\n",
       "      <td>1</td>\n",
       "      <td>0</td>\n",
       "      <td>0</td>\n",
       "      <td>1</td>\n",
       "      <td>0</td>\n",
       "      <td>1</td>\n",
       "      <td>0</td>\n",
       "      <td>0</td>\n",
       "      <td>1</td>\n",
       "    </tr>\n",
       "    <tr>\n",
       "      <th>2</th>\n",
       "      <td>18</td>\n",
       "      <td>4</td>\n",
       "      <td>1</td>\n",
       "      <td>0</td>\n",
       "      <td>0</td>\n",
       "      <td>1</td>\n",
       "      <td>0</td>\n",
       "      <td>1</td>\n",
       "      <td>0</td>\n",
       "      <td>0</td>\n",
       "      <td>1</td>\n",
       "    </tr>\n",
       "    <tr>\n",
       "      <th>3</th>\n",
       "      <td>19</td>\n",
       "      <td>0</td>\n",
       "      <td>1</td>\n",
       "      <td>0</td>\n",
       "      <td>0</td>\n",
       "      <td>1</td>\n",
       "      <td>0</td>\n",
       "      <td>1</td>\n",
       "      <td>0</td>\n",
       "      <td>0</td>\n",
       "      <td>1</td>\n",
       "    </tr>\n",
       "    <tr>\n",
       "      <th>4</th>\n",
       "      <td>19</td>\n",
       "      <td>0</td>\n",
       "      <td>0</td>\n",
       "      <td>0</td>\n",
       "      <td>1</td>\n",
       "      <td>1</td>\n",
       "      <td>0</td>\n",
       "      <td>1</td>\n",
       "      <td>0</td>\n",
       "      <td>0</td>\n",
       "      <td>1</td>\n",
       "    </tr>\n",
       "    <tr>\n",
       "      <th>...</th>\n",
       "      <td>...</td>\n",
       "      <td>...</td>\n",
       "      <td>...</td>\n",
       "      <td>...</td>\n",
       "      <td>...</td>\n",
       "      <td>...</td>\n",
       "      <td>...</td>\n",
       "      <td>...</td>\n",
       "      <td>...</td>\n",
       "      <td>...</td>\n",
       "      <td>...</td>\n",
       "    </tr>\n",
       "    <tr>\n",
       "      <th>195</th>\n",
       "      <td>68</td>\n",
       "      <td>0</td>\n",
       "      <td>0</td>\n",
       "      <td>1</td>\n",
       "      <td>0</td>\n",
       "      <td>1</td>\n",
       "      <td>0</td>\n",
       "      <td>0</td>\n",
       "      <td>1</td>\n",
       "      <td>0</td>\n",
       "      <td>1</td>\n",
       "    </tr>\n",
       "    <tr>\n",
       "      <th>196</th>\n",
       "      <td>71</td>\n",
       "      <td>8</td>\n",
       "      <td>0</td>\n",
       "      <td>1</td>\n",
       "      <td>0</td>\n",
       "      <td>0</td>\n",
       "      <td>1</td>\n",
       "      <td>0</td>\n",
       "      <td>1</td>\n",
       "      <td>1</td>\n",
       "      <td>0</td>\n",
       "    </tr>\n",
       "    <tr>\n",
       "      <th>197</th>\n",
       "      <td>76</td>\n",
       "      <td>0</td>\n",
       "      <td>0</td>\n",
       "      <td>0</td>\n",
       "      <td>1</td>\n",
       "      <td>0</td>\n",
       "      <td>1</td>\n",
       "      <td>0</td>\n",
       "      <td>1</td>\n",
       "      <td>0</td>\n",
       "      <td>1</td>\n",
       "    </tr>\n",
       "    <tr>\n",
       "      <th>198</th>\n",
       "      <td>82</td>\n",
       "      <td>0</td>\n",
       "      <td>0</td>\n",
       "      <td>0</td>\n",
       "      <td>1</td>\n",
       "      <td>0</td>\n",
       "      <td>1</td>\n",
       "      <td>0</td>\n",
       "      <td>1</td>\n",
       "      <td>1</td>\n",
       "      <td>0</td>\n",
       "    </tr>\n",
       "    <tr>\n",
       "      <th>199</th>\n",
       "      <td>85</td>\n",
       "      <td>0</td>\n",
       "      <td>0</td>\n",
       "      <td>0</td>\n",
       "      <td>1</td>\n",
       "      <td>0</td>\n",
       "      <td>1</td>\n",
       "      <td>1</td>\n",
       "      <td>0</td>\n",
       "      <td>0</td>\n",
       "      <td>1</td>\n",
       "    </tr>\n",
       "  </tbody>\n",
       "</table>\n",
       "<p>200 rows × 11 columns</p>\n",
       "</div>"
      ],
      "text/plain": [
       "     age  water/person  rurality_Rural  rurality_Suburban  rurality_Urban  \\\n",
       "0     18             0               1                  0               0   \n",
       "1     18             8               1                  0               0   \n",
       "2     18             4               1                  0               0   \n",
       "3     19             0               1                  0               0   \n",
       "4     19             0               0                  0               1   \n",
       "..   ...           ...             ...                ...             ...   \n",
       "195   68             0               0                  1               0   \n",
       "196   71             8               0                  1               0   \n",
       "197   76             0               0                  0               1   \n",
       "198   82             0               0                  0               1   \n",
       "199   85             0               0                  0               1   \n",
       "\n",
       "     food_Food  food_No food  medication_Medication  medication_No medication  \\\n",
       "0            1             0                      1                         0   \n",
       "1            1             0                      1                         0   \n",
       "2            1             0                      1                         0   \n",
       "3            1             0                      1                         0   \n",
       "4            1             0                      1                         0   \n",
       "..         ...           ...                    ...                       ...   \n",
       "195          1             0                      0                         1   \n",
       "196          0             1                      0                         1   \n",
       "197          0             1                      0                         1   \n",
       "198          0             1                      0                         1   \n",
       "199          0             1                      1                         0   \n",
       "\n",
       "     sanitation_No sanitation  sanitation_Sanitation  \n",
       "0                           0                      1  \n",
       "1                           0                      1  \n",
       "2                           0                      1  \n",
       "3                           0                      1  \n",
       "4                           0                      1  \n",
       "..                        ...                    ...  \n",
       "195                         0                      1  \n",
       "196                         1                      0  \n",
       "197                         0                      1  \n",
       "198                         1                      0  \n",
       "199                         0                      1  \n",
       "\n",
       "[200 rows x 11 columns]"
      ]
     },
     "execution_count": 23,
     "metadata": {},
     "output_type": "execute_result"
    }
   ],
   "source": [
    "X"
   ]
  },
  {
   "cell_type": "code",
   "execution_count": 24,
   "id": "d3f36e6f",
   "metadata": {
    "scrolled": true
   },
   "outputs": [
    {
     "data": {
      "text/plain": [
       "0       Human\n",
       "1       Human\n",
       "2       Human\n",
       "3       Human\n",
       "4       Human\n",
       "        ...  \n",
       "195    Zombie\n",
       "196    Zombie\n",
       "197    Zombie\n",
       "198    Zombie\n",
       "199    Zombie\n",
       "Name: zombie, Length: 200, dtype: object"
      ]
     },
     "execution_count": 24,
     "metadata": {},
     "output_type": "execute_result"
    }
   ],
   "source": [
    "y"
   ]
  },
  {
   "cell_type": "markdown",
   "id": "9240cde9",
   "metadata": {},
   "source": [
    "# Oversampling the dataset (SMOTE)"
   ]
  },
  {
   "cell_type": "code",
   "execution_count": 25,
   "id": "1a7718e1",
   "metadata": {
    "scrolled": true
   },
   "outputs": [
    {
     "data": {
      "text/html": [
       "<div>\n",
       "<style scoped>\n",
       "    .dataframe tbody tr th:only-of-type {\n",
       "        vertical-align: middle;\n",
       "    }\n",
       "\n",
       "    .dataframe tbody tr th {\n",
       "        vertical-align: top;\n",
       "    }\n",
       "\n",
       "    .dataframe thead th {\n",
       "        text-align: right;\n",
       "    }\n",
       "</style>\n",
       "<table border=\"1\" class=\"dataframe\">\n",
       "  <thead>\n",
       "    <tr style=\"text-align: right;\">\n",
       "      <th></th>\n",
       "      <th>age</th>\n",
       "      <th>water/person</th>\n",
       "      <th>rurality_Rural</th>\n",
       "      <th>rurality_Suburban</th>\n",
       "      <th>rurality_Urban</th>\n",
       "      <th>food_Food</th>\n",
       "      <th>food_No food</th>\n",
       "      <th>medication_Medication</th>\n",
       "      <th>medication_No medication</th>\n",
       "      <th>sanitation_No sanitation</th>\n",
       "      <th>sanitation_Sanitation</th>\n",
       "      <th>zombie</th>\n",
       "    </tr>\n",
       "  </thead>\n",
       "  <tbody>\n",
       "    <tr>\n",
       "      <th>0</th>\n",
       "      <td>18</td>\n",
       "      <td>0</td>\n",
       "      <td>1</td>\n",
       "      <td>0</td>\n",
       "      <td>0</td>\n",
       "      <td>1</td>\n",
       "      <td>0</td>\n",
       "      <td>1</td>\n",
       "      <td>0</td>\n",
       "      <td>0</td>\n",
       "      <td>1</td>\n",
       "      <td>Human</td>\n",
       "    </tr>\n",
       "    <tr>\n",
       "      <th>1</th>\n",
       "      <td>18</td>\n",
       "      <td>8</td>\n",
       "      <td>1</td>\n",
       "      <td>0</td>\n",
       "      <td>0</td>\n",
       "      <td>1</td>\n",
       "      <td>0</td>\n",
       "      <td>1</td>\n",
       "      <td>0</td>\n",
       "      <td>0</td>\n",
       "      <td>1</td>\n",
       "      <td>Human</td>\n",
       "    </tr>\n",
       "    <tr>\n",
       "      <th>2</th>\n",
       "      <td>18</td>\n",
       "      <td>4</td>\n",
       "      <td>1</td>\n",
       "      <td>0</td>\n",
       "      <td>0</td>\n",
       "      <td>1</td>\n",
       "      <td>0</td>\n",
       "      <td>1</td>\n",
       "      <td>0</td>\n",
       "      <td>0</td>\n",
       "      <td>1</td>\n",
       "      <td>Human</td>\n",
       "    </tr>\n",
       "    <tr>\n",
       "      <th>3</th>\n",
       "      <td>19</td>\n",
       "      <td>0</td>\n",
       "      <td>1</td>\n",
       "      <td>0</td>\n",
       "      <td>0</td>\n",
       "      <td>1</td>\n",
       "      <td>0</td>\n",
       "      <td>1</td>\n",
       "      <td>0</td>\n",
       "      <td>0</td>\n",
       "      <td>1</td>\n",
       "      <td>Human</td>\n",
       "    </tr>\n",
       "    <tr>\n",
       "      <th>4</th>\n",
       "      <td>19</td>\n",
       "      <td>0</td>\n",
       "      <td>0</td>\n",
       "      <td>0</td>\n",
       "      <td>1</td>\n",
       "      <td>1</td>\n",
       "      <td>0</td>\n",
       "      <td>1</td>\n",
       "      <td>0</td>\n",
       "      <td>0</td>\n",
       "      <td>1</td>\n",
       "      <td>Human</td>\n",
       "    </tr>\n",
       "    <tr>\n",
       "      <th>...</th>\n",
       "      <td>...</td>\n",
       "      <td>...</td>\n",
       "      <td>...</td>\n",
       "      <td>...</td>\n",
       "      <td>...</td>\n",
       "      <td>...</td>\n",
       "      <td>...</td>\n",
       "      <td>...</td>\n",
       "      <td>...</td>\n",
       "      <td>...</td>\n",
       "      <td>...</td>\n",
       "      <td>...</td>\n",
       "    </tr>\n",
       "    <tr>\n",
       "      <th>237</th>\n",
       "      <td>77</td>\n",
       "      <td>4</td>\n",
       "      <td>0</td>\n",
       "      <td>0</td>\n",
       "      <td>0</td>\n",
       "      <td>0</td>\n",
       "      <td>1</td>\n",
       "      <td>0</td>\n",
       "      <td>0</td>\n",
       "      <td>0</td>\n",
       "      <td>0</td>\n",
       "      <td>Zombie</td>\n",
       "    </tr>\n",
       "    <tr>\n",
       "      <th>238</th>\n",
       "      <td>47</td>\n",
       "      <td>0</td>\n",
       "      <td>0</td>\n",
       "      <td>0</td>\n",
       "      <td>0</td>\n",
       "      <td>0</td>\n",
       "      <td>1</td>\n",
       "      <td>0</td>\n",
       "      <td>0</td>\n",
       "      <td>1</td>\n",
       "      <td>0</td>\n",
       "      <td>Zombie</td>\n",
       "    </tr>\n",
       "    <tr>\n",
       "      <th>239</th>\n",
       "      <td>66</td>\n",
       "      <td>0</td>\n",
       "      <td>0</td>\n",
       "      <td>0</td>\n",
       "      <td>1</td>\n",
       "      <td>0</td>\n",
       "      <td>0</td>\n",
       "      <td>0</td>\n",
       "      <td>0</td>\n",
       "      <td>0</td>\n",
       "      <td>0</td>\n",
       "      <td>Zombie</td>\n",
       "    </tr>\n",
       "    <tr>\n",
       "      <th>240</th>\n",
       "      <td>46</td>\n",
       "      <td>0</td>\n",
       "      <td>0</td>\n",
       "      <td>0</td>\n",
       "      <td>1</td>\n",
       "      <td>0</td>\n",
       "      <td>0</td>\n",
       "      <td>1</td>\n",
       "      <td>0</td>\n",
       "      <td>1</td>\n",
       "      <td>0</td>\n",
       "      <td>Zombie</td>\n",
       "    </tr>\n",
       "    <tr>\n",
       "      <th>241</th>\n",
       "      <td>44</td>\n",
       "      <td>0</td>\n",
       "      <td>0</td>\n",
       "      <td>0</td>\n",
       "      <td>1</td>\n",
       "      <td>0</td>\n",
       "      <td>0</td>\n",
       "      <td>0</td>\n",
       "      <td>1</td>\n",
       "      <td>1</td>\n",
       "      <td>0</td>\n",
       "      <td>Zombie</td>\n",
       "    </tr>\n",
       "  </tbody>\n",
       "</table>\n",
       "<p>242 rows × 12 columns</p>\n",
       "</div>"
      ],
      "text/plain": [
       "     age  water/person  rurality_Rural  rurality_Suburban  rurality_Urban  \\\n",
       "0     18             0               1                  0               0   \n",
       "1     18             8               1                  0               0   \n",
       "2     18             4               1                  0               0   \n",
       "3     19             0               1                  0               0   \n",
       "4     19             0               0                  0               1   \n",
       "..   ...           ...             ...                ...             ...   \n",
       "237   77             4               0                  0               0   \n",
       "238   47             0               0                  0               0   \n",
       "239   66             0               0                  0               1   \n",
       "240   46             0               0                  0               1   \n",
       "241   44             0               0                  0               1   \n",
       "\n",
       "     food_Food  food_No food  medication_Medication  medication_No medication  \\\n",
       "0            1             0                      1                         0   \n",
       "1            1             0                      1                         0   \n",
       "2            1             0                      1                         0   \n",
       "3            1             0                      1                         0   \n",
       "4            1             0                      1                         0   \n",
       "..         ...           ...                    ...                       ...   \n",
       "237          0             1                      0                         0   \n",
       "238          0             1                      0                         0   \n",
       "239          0             0                      0                         0   \n",
       "240          0             0                      1                         0   \n",
       "241          0             0                      0                         1   \n",
       "\n",
       "     sanitation_No sanitation  sanitation_Sanitation  zombie  \n",
       "0                           0                      1   Human  \n",
       "1                           0                      1   Human  \n",
       "2                           0                      1   Human  \n",
       "3                           0                      1   Human  \n",
       "4                           0                      1   Human  \n",
       "..                        ...                    ...     ...  \n",
       "237                         0                      0  Zombie  \n",
       "238                         1                      0  Zombie  \n",
       "239                         0                      0  Zombie  \n",
       "240                         1                      0  Zombie  \n",
       "241                         1                      0  Zombie  \n",
       "\n",
       "[242 rows x 12 columns]"
      ]
     },
     "execution_count": 25,
     "metadata": {},
     "output_type": "execute_result"
    }
   ],
   "source": [
    "from imblearn.over_sampling import SMOTE\n",
    "\n",
    "# Instantiate the SMOTE oversampling technique\n",
    "smote = SMOTE(random_state=42)\n",
    "\n",
    "# Resample the data\n",
    "X_resampled, y_resampled = smote.fit_resample(X, y)\n",
    "\n",
    "merged_df = pd.concat([X_resampled, y_resampled], axis=1)\n",
    "merged_df"
   ]
  },
  {
   "cell_type": "code",
   "execution_count": 26,
   "id": "bce3ea0c",
   "metadata": {},
   "outputs": [],
   "source": [
    "X = merged_df.iloc[:,:-1]\n",
    "y = merged_df.iloc[:,-1]"
   ]
  },
  {
   "cell_type": "code",
   "execution_count": 27,
   "id": "0130dc3d",
   "metadata": {},
   "outputs": [
    {
     "data": {
      "text/html": [
       "<div>\n",
       "<style scoped>\n",
       "    .dataframe tbody tr th:only-of-type {\n",
       "        vertical-align: middle;\n",
       "    }\n",
       "\n",
       "    .dataframe tbody tr th {\n",
       "        vertical-align: top;\n",
       "    }\n",
       "\n",
       "    .dataframe thead th {\n",
       "        text-align: right;\n",
       "    }\n",
       "</style>\n",
       "<table border=\"1\" class=\"dataframe\">\n",
       "  <thead>\n",
       "    <tr style=\"text-align: right;\">\n",
       "      <th></th>\n",
       "      <th>age</th>\n",
       "      <th>water/person</th>\n",
       "      <th>rurality_Rural</th>\n",
       "      <th>rurality_Suburban</th>\n",
       "      <th>rurality_Urban</th>\n",
       "      <th>food_Food</th>\n",
       "      <th>food_No food</th>\n",
       "      <th>medication_Medication</th>\n",
       "      <th>medication_No medication</th>\n",
       "      <th>sanitation_No sanitation</th>\n",
       "      <th>sanitation_Sanitation</th>\n",
       "    </tr>\n",
       "  </thead>\n",
       "  <tbody>\n",
       "    <tr>\n",
       "      <th>0</th>\n",
       "      <td>18</td>\n",
       "      <td>0</td>\n",
       "      <td>1</td>\n",
       "      <td>0</td>\n",
       "      <td>0</td>\n",
       "      <td>1</td>\n",
       "      <td>0</td>\n",
       "      <td>1</td>\n",
       "      <td>0</td>\n",
       "      <td>0</td>\n",
       "      <td>1</td>\n",
       "    </tr>\n",
       "    <tr>\n",
       "      <th>1</th>\n",
       "      <td>18</td>\n",
       "      <td>8</td>\n",
       "      <td>1</td>\n",
       "      <td>0</td>\n",
       "      <td>0</td>\n",
       "      <td>1</td>\n",
       "      <td>0</td>\n",
       "      <td>1</td>\n",
       "      <td>0</td>\n",
       "      <td>0</td>\n",
       "      <td>1</td>\n",
       "    </tr>\n",
       "    <tr>\n",
       "      <th>2</th>\n",
       "      <td>18</td>\n",
       "      <td>4</td>\n",
       "      <td>1</td>\n",
       "      <td>0</td>\n",
       "      <td>0</td>\n",
       "      <td>1</td>\n",
       "      <td>0</td>\n",
       "      <td>1</td>\n",
       "      <td>0</td>\n",
       "      <td>0</td>\n",
       "      <td>1</td>\n",
       "    </tr>\n",
       "    <tr>\n",
       "      <th>3</th>\n",
       "      <td>19</td>\n",
       "      <td>0</td>\n",
       "      <td>1</td>\n",
       "      <td>0</td>\n",
       "      <td>0</td>\n",
       "      <td>1</td>\n",
       "      <td>0</td>\n",
       "      <td>1</td>\n",
       "      <td>0</td>\n",
       "      <td>0</td>\n",
       "      <td>1</td>\n",
       "    </tr>\n",
       "    <tr>\n",
       "      <th>4</th>\n",
       "      <td>19</td>\n",
       "      <td>0</td>\n",
       "      <td>0</td>\n",
       "      <td>0</td>\n",
       "      <td>1</td>\n",
       "      <td>1</td>\n",
       "      <td>0</td>\n",
       "      <td>1</td>\n",
       "      <td>0</td>\n",
       "      <td>0</td>\n",
       "      <td>1</td>\n",
       "    </tr>\n",
       "    <tr>\n",
       "      <th>...</th>\n",
       "      <td>...</td>\n",
       "      <td>...</td>\n",
       "      <td>...</td>\n",
       "      <td>...</td>\n",
       "      <td>...</td>\n",
       "      <td>...</td>\n",
       "      <td>...</td>\n",
       "      <td>...</td>\n",
       "      <td>...</td>\n",
       "      <td>...</td>\n",
       "      <td>...</td>\n",
       "    </tr>\n",
       "    <tr>\n",
       "      <th>237</th>\n",
       "      <td>77</td>\n",
       "      <td>4</td>\n",
       "      <td>0</td>\n",
       "      <td>0</td>\n",
       "      <td>0</td>\n",
       "      <td>0</td>\n",
       "      <td>1</td>\n",
       "      <td>0</td>\n",
       "      <td>0</td>\n",
       "      <td>0</td>\n",
       "      <td>0</td>\n",
       "    </tr>\n",
       "    <tr>\n",
       "      <th>238</th>\n",
       "      <td>47</td>\n",
       "      <td>0</td>\n",
       "      <td>0</td>\n",
       "      <td>0</td>\n",
       "      <td>0</td>\n",
       "      <td>0</td>\n",
       "      <td>1</td>\n",
       "      <td>0</td>\n",
       "      <td>0</td>\n",
       "      <td>1</td>\n",
       "      <td>0</td>\n",
       "    </tr>\n",
       "    <tr>\n",
       "      <th>239</th>\n",
       "      <td>66</td>\n",
       "      <td>0</td>\n",
       "      <td>0</td>\n",
       "      <td>0</td>\n",
       "      <td>1</td>\n",
       "      <td>0</td>\n",
       "      <td>0</td>\n",
       "      <td>0</td>\n",
       "      <td>0</td>\n",
       "      <td>0</td>\n",
       "      <td>0</td>\n",
       "    </tr>\n",
       "    <tr>\n",
       "      <th>240</th>\n",
       "      <td>46</td>\n",
       "      <td>0</td>\n",
       "      <td>0</td>\n",
       "      <td>0</td>\n",
       "      <td>1</td>\n",
       "      <td>0</td>\n",
       "      <td>0</td>\n",
       "      <td>1</td>\n",
       "      <td>0</td>\n",
       "      <td>1</td>\n",
       "      <td>0</td>\n",
       "    </tr>\n",
       "    <tr>\n",
       "      <th>241</th>\n",
       "      <td>44</td>\n",
       "      <td>0</td>\n",
       "      <td>0</td>\n",
       "      <td>0</td>\n",
       "      <td>1</td>\n",
       "      <td>0</td>\n",
       "      <td>0</td>\n",
       "      <td>0</td>\n",
       "      <td>1</td>\n",
       "      <td>1</td>\n",
       "      <td>0</td>\n",
       "    </tr>\n",
       "  </tbody>\n",
       "</table>\n",
       "<p>242 rows × 11 columns</p>\n",
       "</div>"
      ],
      "text/plain": [
       "     age  water/person  rurality_Rural  rurality_Suburban  rurality_Urban  \\\n",
       "0     18             0               1                  0               0   \n",
       "1     18             8               1                  0               0   \n",
       "2     18             4               1                  0               0   \n",
       "3     19             0               1                  0               0   \n",
       "4     19             0               0                  0               1   \n",
       "..   ...           ...             ...                ...             ...   \n",
       "237   77             4               0                  0               0   \n",
       "238   47             0               0                  0               0   \n",
       "239   66             0               0                  0               1   \n",
       "240   46             0               0                  0               1   \n",
       "241   44             0               0                  0               1   \n",
       "\n",
       "     food_Food  food_No food  medication_Medication  medication_No medication  \\\n",
       "0            1             0                      1                         0   \n",
       "1            1             0                      1                         0   \n",
       "2            1             0                      1                         0   \n",
       "3            1             0                      1                         0   \n",
       "4            1             0                      1                         0   \n",
       "..         ...           ...                    ...                       ...   \n",
       "237          0             1                      0                         0   \n",
       "238          0             1                      0                         0   \n",
       "239          0             0                      0                         0   \n",
       "240          0             0                      1                         0   \n",
       "241          0             0                      0                         1   \n",
       "\n",
       "     sanitation_No sanitation  sanitation_Sanitation  \n",
       "0                           0                      1  \n",
       "1                           0                      1  \n",
       "2                           0                      1  \n",
       "3                           0                      1  \n",
       "4                           0                      1  \n",
       "..                        ...                    ...  \n",
       "237                         0                      0  \n",
       "238                         1                      0  \n",
       "239                         0                      0  \n",
       "240                         1                      0  \n",
       "241                         1                      0  \n",
       "\n",
       "[242 rows x 11 columns]"
      ]
     },
     "execution_count": 27,
     "metadata": {},
     "output_type": "execute_result"
    }
   ],
   "source": [
    "X"
   ]
  },
  {
   "cell_type": "code",
   "execution_count": 28,
   "id": "fc3235b9",
   "metadata": {
    "scrolled": true
   },
   "outputs": [
    {
     "data": {
      "text/plain": [
       "array([0, 0, 0, 0, 0, 0, 0, 0, 0, 0, 0, 0, 0, 0, 0, 0, 0, 0, 0, 0, 0, 0,\n",
       "       0, 0, 0, 0, 0, 0, 0, 0, 0, 0, 0, 0, 0, 0, 0, 0, 0, 0, 0, 0, 0, 0,\n",
       "       0, 0, 0, 0, 0, 0, 0, 0, 0, 0, 0, 0, 0, 0, 0, 0, 0, 0, 0, 0, 0, 0,\n",
       "       0, 0, 0, 0, 0, 0, 0, 0, 0, 0, 0, 0, 0, 0, 0, 0, 0, 0, 0, 0, 0, 0,\n",
       "       0, 0, 0, 0, 0, 0, 0, 0, 0, 0, 0, 0, 0, 0, 0, 0, 0, 0, 0, 0, 0, 0,\n",
       "       0, 0, 0, 0, 0, 0, 0, 0, 0, 0, 0, 1, 1, 1, 1, 1, 1, 1, 1, 1, 1, 1,\n",
       "       1, 1, 1, 1, 1, 1, 1, 1, 1, 1, 1, 1, 1, 1, 1, 1, 1, 1, 1, 1, 1, 1,\n",
       "       1, 1, 1, 1, 1, 1, 1, 1, 1, 1, 1, 1, 1, 1, 1, 1, 1, 1, 1, 1, 1, 1,\n",
       "       1, 1, 1, 1, 1, 1, 1, 1, 1, 1, 1, 1, 1, 1, 1, 1, 1, 1, 1, 1, 1, 1,\n",
       "       1, 1, 1, 1, 1, 1, 1, 1, 1, 1, 1, 1, 1, 1, 1, 1, 1, 1, 1, 1, 1, 1,\n",
       "       1, 1, 1, 1, 1, 1, 1, 1, 1, 1, 1, 1, 1, 1, 1, 1, 1, 1, 1, 1, 1, 1])"
      ]
     },
     "execution_count": 28,
     "metadata": {},
     "output_type": "execute_result"
    }
   ],
   "source": [
    "from sklearn.preprocessing import LabelEncoder\n",
    "LE = LabelEncoder()\n",
    "y = LE.fit_transform(y)\n",
    "y"
   ]
  },
  {
   "cell_type": "markdown",
   "id": "50f28b8f",
   "metadata": {},
   "source": [
    "# Train-Test Split"
   ]
  },
  {
   "cell_type": "code",
   "execution_count": 29,
   "id": "be23e6cb",
   "metadata": {},
   "outputs": [],
   "source": [
    "from sklearn.model_selection import train_test_split\n",
    "X_train,X_test,y_train,y_test = train_test_split(X,y,test_size=0.2,random_state=0)"
   ]
  },
  {
   "cell_type": "code",
   "execution_count": 30,
   "id": "6571166f",
   "metadata": {},
   "outputs": [
    {
     "data": {
      "text/plain": [
       "(193, 11)"
      ]
     },
     "execution_count": 30,
     "metadata": {},
     "output_type": "execute_result"
    }
   ],
   "source": [
    "X_train.shape"
   ]
  },
  {
   "cell_type": "code",
   "execution_count": 31,
   "id": "d2595b64",
   "metadata": {
    "scrolled": true
   },
   "outputs": [
    {
     "data": {
      "text/plain": [
       "(49, 11)"
      ]
     },
     "execution_count": 31,
     "metadata": {},
     "output_type": "execute_result"
    }
   ],
   "source": [
    "X_test.shape"
   ]
  },
  {
   "cell_type": "code",
   "execution_count": 32,
   "id": "c77113de",
   "metadata": {},
   "outputs": [
    {
     "data": {
      "text/plain": [
       "(193,)"
      ]
     },
     "execution_count": 32,
     "metadata": {},
     "output_type": "execute_result"
    }
   ],
   "source": [
    "y_train.shape"
   ]
  },
  {
   "cell_type": "code",
   "execution_count": 33,
   "id": "eb555a8d",
   "metadata": {},
   "outputs": [
    {
     "data": {
      "text/plain": [
       "(49,)"
      ]
     },
     "execution_count": 33,
     "metadata": {},
     "output_type": "execute_result"
    }
   ],
   "source": [
    "y_test.shape"
   ]
  },
  {
   "cell_type": "markdown",
   "id": "5a41b6e8",
   "metadata": {},
   "source": [
    "# Feature Scaling"
   ]
  },
  {
   "cell_type": "code",
   "execution_count": 34,
   "id": "8dca614a",
   "metadata": {},
   "outputs": [],
   "source": [
    "from sklearn.preprocessing import StandardScaler\n",
    "SS = StandardScaler()\n",
    "X_train = SS.fit_transform(X_train)\n",
    "X_test = SS.fit_transform(X_test)"
   ]
  },
  {
   "cell_type": "code",
   "execution_count": 35,
   "id": "f15f6674",
   "metadata": {},
   "outputs": [
    {
     "data": {
      "text/plain": [
       "array([[ 0.81532158, -0.77728831,  1.16346832, ..., -1.10380741,\n",
       "        -1.02625118, -0.82356595],\n",
       "       [-0.5065018 ,  2.04788388,  1.16346832, ..., -1.10380741,\n",
       "        -1.02625118,  1.21423185],\n",
       "       [ 1.95689633,  0.35278057, -0.85949912, ...,  0.90595514,\n",
       "         0.97442031, -0.82356595],\n",
       "       ...,\n",
       "       [ 1.77664768,  1.48284944,  1.16346832, ...,  0.90595514,\n",
       "         0.97442031, -0.82356595],\n",
       "       [-0.80691621,  2.89543554,  1.16346832, ...,  0.90595514,\n",
       "        -1.02625118,  1.21423185],\n",
       "       [ 0.21449277, -0.77728831,  1.16346832, ...,  0.90595514,\n",
       "         0.97442031, -0.82356595]])"
      ]
     },
     "execution_count": 35,
     "metadata": {},
     "output_type": "execute_result"
    }
   ],
   "source": [
    "X_train"
   ]
  },
  {
   "cell_type": "code",
   "execution_count": 36,
   "id": "1001ae24",
   "metadata": {},
   "outputs": [
    {
     "data": {
      "text/plain": [
       "array([[ 0.89522689,  1.67333197,  1.31233465, -0.69631062, -0.63245553,\n",
       "         1.10782342, -1.02062073, -0.8660254 ,  0.94053994,  1.06321907,\n",
       "        -0.9797959 ],\n",
       "       [ 0.94547445,  0.43569776, -0.76200076, -0.69631062,  1.58113883,\n",
       "        -0.90267093,  0.9797959 , -0.8660254 ,  0.94053994,  1.06321907,\n",
       "        -0.9797959 ],\n",
       "       [-0.91368518,  0.43569776,  1.31233465, -0.69631062, -0.63245553,\n",
       "         1.10782342, -1.02062073, -0.8660254 ,  0.94053994, -0.94053994,\n",
       "         1.02062073],\n",
       "       [-0.26046693, -0.18311935,  1.31233465, -0.69631062, -0.63245553,\n",
       "         1.10782342, -1.02062073, -0.8660254 ,  0.94053994,  1.06321907,\n",
       "        -0.9797959 ],\n",
       "       [ 0.79473178, -0.80193645,  1.31233465, -0.69631062, -0.63245553,\n",
       "         1.10782342, -1.02062073,  1.15470054, -1.06321907, -0.94053994,\n",
       "         1.02062073],\n",
       "       [-0.36096205, -0.80193645, -0.76200076,  1.43614066, -0.63245553,\n",
       "         1.10782342, -1.02062073,  1.15470054, -1.06321907, -0.94053994,\n",
       "         1.02062073],\n",
       "       [-1.21517052, -0.80193645, -0.76200076,  1.43614066, -0.63245553,\n",
       "        -0.90267093,  0.9797959 , -0.8660254 ,  0.94053994,  1.06321907,\n",
       "        -0.9797959 ],\n",
       "       [-0.31071449,  0.12628921,  1.31233465, -0.69631062, -0.63245553,\n",
       "         1.10782342, -1.02062073,  1.15470054, -1.06321907,  1.06321907,\n",
       "        -0.9797959 ],\n",
       "       [ 1.39770246,  1.67333197, -0.76200076,  1.43614066, -0.63245553,\n",
       "         1.10782342, -1.02062073,  1.15470054, -1.06321907,  1.06321907,\n",
       "        -0.9797959 ],\n",
       "       [ 1.19671223,  1.67333197, -0.76200076,  1.43614066, -0.63245553,\n",
       "        -0.90267093,  0.9797959 , -0.8660254 ,  0.94053994,  1.06321907,\n",
       "        -0.9797959 ],\n",
       "       [ 1.84993048, -0.80193645, -0.76200076, -0.69631062,  1.58113883,\n",
       "        -0.90267093,  0.9797959 , -0.8660254 , -1.06321907, -0.94053994,\n",
       "        -0.9797959 ],\n",
       "       [ 0.6439891 , -0.80193645,  1.31233465, -0.69631062, -0.63245553,\n",
       "        -0.90267093,  0.9797959 , -0.8660254 ,  0.94053994, -0.94053994,\n",
       "         1.02062073],\n",
       "       [ 1.69918781,  1.67333197, -0.76200076, -0.69631062,  1.58113883,\n",
       "         1.10782342, -1.02062073,  1.15470054, -1.06321907, -0.94053994,\n",
       "         1.02062073],\n",
       "       [ 1.64894025,  0.43569776,  1.31233465, -0.69631062, -0.63245553,\n",
       "        -0.90267093,  0.9797959 , -0.8660254 ,  0.94053994,  1.06321907,\n",
       "        -0.9797959 ],\n",
       "       [-1.31566564,  0.43569776, -0.76200076, -0.69631062,  1.58113883,\n",
       "        -0.90267093,  0.9797959 , -0.8660254 ,  0.94053994,  1.06321907,\n",
       "        -0.9797959 ],\n",
       "       [ 0.09126597, -0.80193645, -0.76200076,  1.43614066, -0.63245553,\n",
       "         1.10782342, -1.02062073,  1.15470054, -1.06321907,  1.06321907,\n",
       "        -0.9797959 ],\n",
       "       [-1.46640831, -0.80193645, -0.76200076, -0.69631062,  1.58113883,\n",
       "        -0.90267093,  0.9797959 , -0.8660254 ,  0.94053994, -0.94053994,\n",
       "         1.02062073],\n",
       "       [-0.10972426, -0.80193645, -0.76200076, -0.69631062,  1.58113883,\n",
       "         1.10782342, -1.02062073,  1.15470054, -1.06321907,  1.06321907,\n",
       "        -0.9797959 ],\n",
       "       [-0.96393273, -0.4925279 , -0.76200076, -0.69631062,  1.58113883,\n",
       "        -0.90267093,  0.9797959 , -0.8660254 ,  0.94053994,  1.06321907,\n",
       "        -0.9797959 ],\n",
       "       [-1.31566564,  1.67333197, -0.76200076, -0.69631062,  1.58113883,\n",
       "        -0.90267093,  0.9797959 , -0.8660254 ,  0.94053994, -0.94053994,\n",
       "         1.02062073],\n",
       "       [-0.26046693, -0.80193645, -0.76200076,  1.43614066, -0.63245553,\n",
       "        -0.90267093,  0.9797959 , -0.8660254 ,  0.94053994, -0.94053994,\n",
       "         1.02062073],\n",
       "       [ 0.6439891 ,  1.67333197,  1.31233465, -0.69631062, -0.63245553,\n",
       "        -0.90267093,  0.9797959 , -0.8660254 ,  0.94053994, -0.94053994,\n",
       "         1.02062073],\n",
       "       [ 0.04101841, -0.80193645, -0.76200076,  1.43614066, -0.63245553,\n",
       "        -0.90267093,  0.9797959 , -0.8660254 ,  0.94053994, -0.94053994,\n",
       "         1.02062073],\n",
       "       [-1.11467541, -0.80193645,  1.31233465, -0.69631062, -0.63245553,\n",
       "        -0.90267093,  0.9797959 , -0.8660254 ,  0.94053994,  1.06321907,\n",
       "        -0.9797959 ],\n",
       "       [-1.41616075, -0.80193645, -0.76200076, -0.69631062,  1.58113883,\n",
       "         1.10782342, -1.02062073,  1.15470054, -1.06321907, -0.94053994,\n",
       "         1.02062073],\n",
       "       [-1.11467541, -0.80193645,  1.31233465, -0.69631062, -0.63245553,\n",
       "        -0.90267093,  0.9797959 , -0.8660254 ,  0.94053994, -0.94053994,\n",
       "         1.02062073],\n",
       "       [ 1.90017804, -0.80193645, -0.76200076, -0.69631062,  1.58113883,\n",
       "        -0.90267093,  0.9797959 ,  1.15470054, -1.06321907, -0.94053994,\n",
       "         1.02062073],\n",
       "       [ 0.19176109, -0.80193645, -0.76200076, -0.69631062,  1.58113883,\n",
       "        -0.90267093,  0.9797959 , -0.8660254 ,  0.94053994,  1.06321907,\n",
       "        -0.9797959 ],\n",
       "       [-1.26541808,  1.67333197, -0.76200076,  1.43614066, -0.63245553,\n",
       "         1.10782342, -1.02062073,  1.15470054, -1.06321907, -0.94053994,\n",
       "         1.02062073],\n",
       "       [ 1.44795002,  0.12628921, -0.76200076, -0.69631062, -0.63245553,\n",
       "        -0.90267093,  0.9797959 , -0.8660254 , -1.06321907, -0.94053994,\n",
       "         1.02062073],\n",
       "       [-0.66244739, -0.18311935,  1.31233465, -0.69631062, -0.63245553,\n",
       "         1.10782342, -1.02062073, -0.8660254 ,  0.94053994,  1.06321907,\n",
       "        -0.9797959 ],\n",
       "       [-0.86343762, -0.18311935, -0.76200076, -0.69631062,  1.58113883,\n",
       "         1.10782342, -1.02062073,  1.15470054, -1.06321907, -0.94053994,\n",
       "         1.02062073],\n",
       "       [ 0.54349399, -0.80193645,  1.31233465, -0.69631062, -0.63245553,\n",
       "         1.10782342, -1.02062073,  1.15470054, -1.06321907, -0.94053994,\n",
       "         1.02062073],\n",
       "       [-0.10972426, -0.4925279 ,  1.31233465, -0.69631062, -0.63245553,\n",
       "         1.10782342, -1.02062073,  1.15470054, -1.06321907,  1.06321907,\n",
       "        -0.9797959 ],\n",
       "       [ 1.49819758,  1.67333197,  1.31233465, -0.69631062, -0.63245553,\n",
       "         1.10782342, -1.02062073,  1.15470054, -1.06321907,  1.06321907,\n",
       "        -0.9797959 ],\n",
       "       [-0.51170472,  1.67333197,  1.31233465, -0.69631062, -0.63245553,\n",
       "        -0.90267093,  0.9797959 ,  1.15470054, -1.06321907, -0.94053994,\n",
       "         1.02062073],\n",
       "       [-0.51170472, -0.80193645, -0.76200076,  1.43614066, -0.63245553,\n",
       "        -0.90267093,  0.9797959 , -0.8660254 ,  0.94053994, -0.94053994,\n",
       "         1.02062073],\n",
       "       [-0.15997182, -0.80193645, -0.76200076, -0.69631062,  1.58113883,\n",
       "        -0.90267093, -1.02062073, -0.8660254 ,  0.94053994,  1.06321907,\n",
       "        -0.9797959 ],\n",
       "       [ 0.44299887,  0.43569776, -0.76200076,  1.43614066, -0.63245553,\n",
       "        -0.90267093,  0.9797959 , -0.8660254 ,  0.94053994,  1.06321907,\n",
       "        -0.9797959 ],\n",
       "       [ 0.09126597, -0.80193645, -0.76200076,  1.43614066, -0.63245553,\n",
       "        -0.90267093,  0.9797959 , -0.8660254 ,  0.94053994, -0.94053994,\n",
       "         1.02062073],\n",
       "       [ 0.69423666, -0.80193645,  1.31233465, -0.69631062, -0.63245553,\n",
       "        -0.90267093,  0.9797959 , -0.8660254 ,  0.94053994,  1.06321907,\n",
       "        -0.9797959 ],\n",
       "       [-0.81319006,  1.67333197, -0.76200076,  1.43614066, -0.63245553,\n",
       "         1.10782342, -1.02062073,  1.15470054, -1.06321907,  1.06321907,\n",
       "        -0.9797959 ],\n",
       "       [ 0.69423666, -0.80193645, -0.76200076,  1.43614066, -0.63245553,\n",
       "         1.10782342, -1.02062073,  1.15470054, -1.06321907, -0.94053994,\n",
       "         1.02062073],\n",
       "       [-1.16492296,  0.74510631, -0.76200076,  1.43614066, -0.63245553,\n",
       "        -0.90267093,  0.9797959 ,  1.15470054, -1.06321907,  1.06321907,\n",
       "        -0.9797959 ],\n",
       "       [ 0.69423666, -0.80193645,  1.31233465, -0.69631062, -0.63245553,\n",
       "         1.10782342, -1.02062073,  1.15470054, -1.06321907, -0.94053994,\n",
       "         1.02062073],\n",
       "       [-1.21517052,  1.67333197, -0.76200076,  1.43614066, -0.63245553,\n",
       "         1.10782342, -1.02062073,  1.15470054, -1.06321907,  1.06321907,\n",
       "        -0.9797959 ],\n",
       "       [-0.26046693, -0.80193645, -0.76200076, -0.69631062,  1.58113883,\n",
       "        -0.90267093,  0.9797959 ,  1.15470054, -1.06321907, -0.94053994,\n",
       "         1.02062073],\n",
       "       [-1.36591319, -0.80193645,  1.31233465, -0.69631062, -0.63245553,\n",
       "         1.10782342, -1.02062073, -0.8660254 ,  0.94053994, -0.94053994,\n",
       "         1.02062073],\n",
       "       [ 0.99572201, -0.80193645, -0.76200076,  1.43614066, -0.63245553,\n",
       "        -0.90267093, -1.02062073, -0.8660254 ,  0.94053994, -0.94053994,\n",
       "        -0.9797959 ]])"
      ]
     },
     "execution_count": 36,
     "metadata": {},
     "output_type": "execute_result"
    }
   ],
   "source": [
    "X_test"
   ]
  },
  {
   "cell_type": "code",
   "execution_count": 37,
   "id": "179dfb13",
   "metadata": {},
   "outputs": [
    {
     "name": "stdout",
     "output_type": "stream",
     "text": [
      "              precision    recall  f1-score   support\n",
      "\n",
      "           0       0.81      0.92      0.86        24\n",
      "           1       0.91      0.80      0.85        25\n",
      "\n",
      "    accuracy                           0.86        49\n",
      "   macro avg       0.86      0.86      0.86        49\n",
      "weighted avg       0.86      0.86      0.86        49\n",
      "\n"
     ]
    }
   ],
   "source": [
    "from sklearn.linear_model import LogisticRegression\n",
    "from sklearn.metrics import accuracy_score,confusion_matrix,classification_report\n",
    "LR = LogisticRegression()\n",
    "y_pred = LR.fit(X_train, y_train).predict(X_test)\n",
    "print(classification_report(y_test,y_pred))"
   ]
  },
  {
   "cell_type": "code",
   "execution_count": 38,
   "id": "e6d27672",
   "metadata": {},
   "outputs": [
    {
     "name": "stdout",
     "output_type": "stream",
     "text": [
      "              precision    recall  f1-score   support\n",
      "\n",
      "           0       0.81      0.92      0.86        24\n",
      "           1       0.91      0.80      0.85        25\n",
      "\n",
      "    accuracy                           0.86        49\n",
      "   macro avg       0.86      0.86      0.86        49\n",
      "weighted avg       0.86      0.86      0.86        49\n",
      "\n"
     ]
    }
   ],
   "source": [
    "from sklearn.svm import SVC\n",
    "SV_L = SVC(kernel='linear')\n",
    "y_pred = SV_L.fit(X_train, y_train).predict(X_test)\n",
    "print(classification_report(y_test,y_pred))"
   ]
  },
  {
   "cell_type": "code",
   "execution_count": 39,
   "id": "3e47e4bc",
   "metadata": {},
   "outputs": [
    {
     "name": "stdout",
     "output_type": "stream",
     "text": [
      "              precision    recall  f1-score   support\n",
      "\n",
      "           0       0.81      0.88      0.84        24\n",
      "           1       0.87      0.80      0.83        25\n",
      "\n",
      "    accuracy                           0.84        49\n",
      "   macro avg       0.84      0.84      0.84        49\n",
      "weighted avg       0.84      0.84      0.84        49\n",
      "\n"
     ]
    }
   ],
   "source": [
    "from sklearn.svm import SVC\n",
    "SV_K = SVC(kernel='rbf')\n",
    "y_pred = SV_K.fit(X_train, y_train).predict(X_test)\n",
    "print(classification_report(y_test,y_pred))"
   ]
  },
  {
   "cell_type": "code",
   "execution_count": 40,
   "id": "ec83a63c",
   "metadata": {},
   "outputs": [
    {
     "name": "stdout",
     "output_type": "stream",
     "text": [
      "              precision    recall  f1-score   support\n",
      "\n",
      "           0       0.80      0.83      0.82        24\n",
      "           1       0.83      0.80      0.82        25\n",
      "\n",
      "    accuracy                           0.82        49\n",
      "   macro avg       0.82      0.82      0.82        49\n",
      "weighted avg       0.82      0.82      0.82        49\n",
      "\n"
     ]
    }
   ],
   "source": [
    "from sklearn.neighbors import KNeighborsClassifier\n",
    "KNN = KNeighborsClassifier(n_neighbors=5,metric='minkowski',p=2)\n",
    "y_pred = KNN.fit(X_train, y_train).predict(X_test)\n",
    "print(classification_report(y_test,y_pred))"
   ]
  },
  {
   "cell_type": "code",
   "execution_count": 41,
   "id": "4bdf9fdb",
   "metadata": {},
   "outputs": [
    {
     "name": "stdout",
     "output_type": "stream",
     "text": [
      "              precision    recall  f1-score   support\n",
      "\n",
      "           0       0.81      0.88      0.84        24\n",
      "           1       0.87      0.80      0.83        25\n",
      "\n",
      "    accuracy                           0.84        49\n",
      "   macro avg       0.84      0.84      0.84        49\n",
      "weighted avg       0.84      0.84      0.84        49\n",
      "\n"
     ]
    }
   ],
   "source": [
    "from sklearn.naive_bayes import GaussianNB\n",
    "NB = GaussianNB()\n",
    "y_pred = NB.fit(X_train, y_train).predict(X_test)\n",
    "print(classification_report(y_test,y_pred))"
   ]
  },
  {
   "cell_type": "code",
   "execution_count": 42,
   "id": "282c72f3",
   "metadata": {},
   "outputs": [
    {
     "name": "stdout",
     "output_type": "stream",
     "text": [
      "              precision    recall  f1-score   support\n",
      "\n",
      "           0       0.72      0.75      0.73        24\n",
      "           1       0.75      0.72      0.73        25\n",
      "\n",
      "    accuracy                           0.73        49\n",
      "   macro avg       0.73      0.73      0.73        49\n",
      "weighted avg       0.74      0.73      0.73        49\n",
      "\n"
     ]
    }
   ],
   "source": [
    "from sklearn.tree import DecisionTreeClassifier\n",
    "DTC = DecisionTreeClassifier(criterion='entropy',random_state=0)\n",
    "y_pred = DTC.fit(X_train, y_train).predict(X_test)\n",
    "print(classification_report(y_test,y_pred))"
   ]
  },
  {
   "cell_type": "code",
   "execution_count": 43,
   "id": "176c0190",
   "metadata": {},
   "outputs": [
    {
     "name": "stdout",
     "output_type": "stream",
     "text": [
      "              precision    recall  f1-score   support\n",
      "\n",
      "           0       0.71      0.92      0.80        24\n",
      "           1       0.89      0.64      0.74        25\n",
      "\n",
      "    accuracy                           0.78        49\n",
      "   macro avg       0.80      0.78      0.77        49\n",
      "weighted avg       0.80      0.78      0.77        49\n",
      "\n"
     ]
    }
   ],
   "source": [
    "from sklearn.ensemble import RandomForestClassifier\n",
    "RFC = RandomForestClassifier(n_estimators=10,criterion='entropy',random_state=0)\n",
    "y_pred = RFC.fit(X_train, y_train).predict(X_test)\n",
    "print(classification_report(y_test,y_pred))"
   ]
  },
  {
   "cell_type": "markdown",
   "id": "352596e3",
   "metadata": {},
   "source": [
    "# Hyper-parameter Tuning"
   ]
  },
  {
   "cell_type": "code",
   "execution_count": 44,
   "id": "6b009a46",
   "metadata": {},
   "outputs": [
    {
     "data": {
      "text/html": [
       "<style>#sk-container-id-1 {color: black;background-color: white;}#sk-container-id-1 pre{padding: 0;}#sk-container-id-1 div.sk-toggleable {background-color: white;}#sk-container-id-1 label.sk-toggleable__label {cursor: pointer;display: block;width: 100%;margin-bottom: 0;padding: 0.3em;box-sizing: border-box;text-align: center;}#sk-container-id-1 label.sk-toggleable__label-arrow:before {content: \"▸\";float: left;margin-right: 0.25em;color: #696969;}#sk-container-id-1 label.sk-toggleable__label-arrow:hover:before {color: black;}#sk-container-id-1 div.sk-estimator:hover label.sk-toggleable__label-arrow:before {color: black;}#sk-container-id-1 div.sk-toggleable__content {max-height: 0;max-width: 0;overflow: hidden;text-align: left;background-color: #f0f8ff;}#sk-container-id-1 div.sk-toggleable__content pre {margin: 0.2em;color: black;border-radius: 0.25em;background-color: #f0f8ff;}#sk-container-id-1 input.sk-toggleable__control:checked~div.sk-toggleable__content {max-height: 200px;max-width: 100%;overflow: auto;}#sk-container-id-1 input.sk-toggleable__control:checked~label.sk-toggleable__label-arrow:before {content: \"▾\";}#sk-container-id-1 div.sk-estimator input.sk-toggleable__control:checked~label.sk-toggleable__label {background-color: #d4ebff;}#sk-container-id-1 div.sk-label input.sk-toggleable__control:checked~label.sk-toggleable__label {background-color: #d4ebff;}#sk-container-id-1 input.sk-hidden--visually {border: 0;clip: rect(1px 1px 1px 1px);clip: rect(1px, 1px, 1px, 1px);height: 1px;margin: -1px;overflow: hidden;padding: 0;position: absolute;width: 1px;}#sk-container-id-1 div.sk-estimator {font-family: monospace;background-color: #f0f8ff;border: 1px dotted black;border-radius: 0.25em;box-sizing: border-box;margin-bottom: 0.5em;}#sk-container-id-1 div.sk-estimator:hover {background-color: #d4ebff;}#sk-container-id-1 div.sk-parallel-item::after {content: \"\";width: 100%;border-bottom: 1px solid gray;flex-grow: 1;}#sk-container-id-1 div.sk-label:hover label.sk-toggleable__label {background-color: #d4ebff;}#sk-container-id-1 div.sk-serial::before {content: \"\";position: absolute;border-left: 1px solid gray;box-sizing: border-box;top: 0;bottom: 0;left: 50%;z-index: 0;}#sk-container-id-1 div.sk-serial {display: flex;flex-direction: column;align-items: center;background-color: white;padding-right: 0.2em;padding-left: 0.2em;position: relative;}#sk-container-id-1 div.sk-item {position: relative;z-index: 1;}#sk-container-id-1 div.sk-parallel {display: flex;align-items: stretch;justify-content: center;background-color: white;position: relative;}#sk-container-id-1 div.sk-item::before, #sk-container-id-1 div.sk-parallel-item::before {content: \"\";position: absolute;border-left: 1px solid gray;box-sizing: border-box;top: 0;bottom: 0;left: 50%;z-index: -1;}#sk-container-id-1 div.sk-parallel-item {display: flex;flex-direction: column;z-index: 1;position: relative;background-color: white;}#sk-container-id-1 div.sk-parallel-item:first-child::after {align-self: flex-end;width: 50%;}#sk-container-id-1 div.sk-parallel-item:last-child::after {align-self: flex-start;width: 50%;}#sk-container-id-1 div.sk-parallel-item:only-child::after {width: 0;}#sk-container-id-1 div.sk-dashed-wrapped {border: 1px dashed gray;margin: 0 0.4em 0.5em 0.4em;box-sizing: border-box;padding-bottom: 0.4em;background-color: white;}#sk-container-id-1 div.sk-label label {font-family: monospace;font-weight: bold;display: inline-block;line-height: 1.2em;}#sk-container-id-1 div.sk-label-container {text-align: center;}#sk-container-id-1 div.sk-container {/* jupyter's `normalize.less` sets `[hidden] { display: none; }` but bootstrap.min.css set `[hidden] { display: none !important; }` so we also need the `!important` here to be able to override the default hidden behavior on the sphinx rendered scikit-learn.org. See: https://github.com/scikit-learn/scikit-learn/issues/21755 */display: inline-block !important;position: relative;}#sk-container-id-1 div.sk-text-repr-fallback {display: none;}</style><div id=\"sk-container-id-1\" class=\"sk-top-container\"><div class=\"sk-text-repr-fallback\"><pre>GridSearchCV(cv=10, estimator=LogisticRegression(), n_jobs=-1,\n",
       "             param_grid={&#x27;C&#x27;: [0.25, 0.5, 0.75, 1],\n",
       "                         &#x27;class_weight&#x27;: [None, &#x27;balanced&#x27;],\n",
       "                         &#x27;fit_intercept&#x27;: [True, False],\n",
       "                         &#x27;max_iter&#x27;: [100, 500, 1000],\n",
       "                         &#x27;multi_class&#x27;: [&#x27;auto&#x27;, &#x27;ovr&#x27;, &#x27;multinomial&#x27;],\n",
       "                         &#x27;penalty&#x27;: [&#x27;l1&#x27;, &#x27;l2&#x27;, &#x27;elasticnet&#x27;, &#x27;none&#x27;],\n",
       "                         &#x27;solver&#x27;: [&#x27;newton-cg&#x27;, &#x27;lbfgs&#x27;, &#x27;liblinear&#x27;, &#x27;sag&#x27;,\n",
       "                                    &#x27;saga&#x27;]},\n",
       "             scoring=&#x27;accuracy&#x27;)</pre><b>In a Jupyter environment, please rerun this cell to show the HTML representation or trust the notebook. <br />On GitHub, the HTML representation is unable to render, please try loading this page with nbviewer.org.</b></div><div class=\"sk-container\" hidden><div class=\"sk-item sk-dashed-wrapped\"><div class=\"sk-label-container\"><div class=\"sk-label sk-toggleable\"><input class=\"sk-toggleable__control sk-hidden--visually\" id=\"sk-estimator-id-1\" type=\"checkbox\" ><label for=\"sk-estimator-id-1\" class=\"sk-toggleable__label sk-toggleable__label-arrow\">GridSearchCV</label><div class=\"sk-toggleable__content\"><pre>GridSearchCV(cv=10, estimator=LogisticRegression(), n_jobs=-1,\n",
       "             param_grid={&#x27;C&#x27;: [0.25, 0.5, 0.75, 1],\n",
       "                         &#x27;class_weight&#x27;: [None, &#x27;balanced&#x27;],\n",
       "                         &#x27;fit_intercept&#x27;: [True, False],\n",
       "                         &#x27;max_iter&#x27;: [100, 500, 1000],\n",
       "                         &#x27;multi_class&#x27;: [&#x27;auto&#x27;, &#x27;ovr&#x27;, &#x27;multinomial&#x27;],\n",
       "                         &#x27;penalty&#x27;: [&#x27;l1&#x27;, &#x27;l2&#x27;, &#x27;elasticnet&#x27;, &#x27;none&#x27;],\n",
       "                         &#x27;solver&#x27;: [&#x27;newton-cg&#x27;, &#x27;lbfgs&#x27;, &#x27;liblinear&#x27;, &#x27;sag&#x27;,\n",
       "                                    &#x27;saga&#x27;]},\n",
       "             scoring=&#x27;accuracy&#x27;)</pre></div></div></div><div class=\"sk-parallel\"><div class=\"sk-parallel-item\"><div class=\"sk-item\"><div class=\"sk-label-container\"><div class=\"sk-label sk-toggleable\"><input class=\"sk-toggleable__control sk-hidden--visually\" id=\"sk-estimator-id-2\" type=\"checkbox\" ><label for=\"sk-estimator-id-2\" class=\"sk-toggleable__label sk-toggleable__label-arrow\">estimator: LogisticRegression</label><div class=\"sk-toggleable__content\"><pre>LogisticRegression()</pre></div></div></div><div class=\"sk-serial\"><div class=\"sk-item\"><div class=\"sk-estimator sk-toggleable\"><input class=\"sk-toggleable__control sk-hidden--visually\" id=\"sk-estimator-id-3\" type=\"checkbox\" ><label for=\"sk-estimator-id-3\" class=\"sk-toggleable__label sk-toggleable__label-arrow\">LogisticRegression</label><div class=\"sk-toggleable__content\"><pre>LogisticRegression()</pre></div></div></div></div></div></div></div></div></div></div>"
      ],
      "text/plain": [
       "GridSearchCV(cv=10, estimator=LogisticRegression(), n_jobs=-1,\n",
       "             param_grid={'C': [0.25, 0.5, 0.75, 1],\n",
       "                         'class_weight': [None, 'balanced'],\n",
       "                         'fit_intercept': [True, False],\n",
       "                         'max_iter': [100, 500, 1000],\n",
       "                         'multi_class': ['auto', 'ovr', 'multinomial'],\n",
       "                         'penalty': ['l1', 'l2', 'elasticnet', 'none'],\n",
       "                         'solver': ['newton-cg', 'lbfgs', 'liblinear', 'sag',\n",
       "                                    'saga']},\n",
       "             scoring='accuracy')"
      ]
     },
     "execution_count": 44,
     "metadata": {},
     "output_type": "execute_result"
    }
   ],
   "source": [
    "from sklearn.model_selection import GridSearchCV\n",
    "parameters = {\n",
    "    'penalty': ['l1', 'l2', 'elasticnet', 'none'],\n",
    "    'C': [0.25, 0.5, 0.75, 1],\n",
    "    'fit_intercept': [True, False],\n",
    "    'class_weight': [None, 'balanced'],\n",
    "    'solver': ['newton-cg', 'lbfgs', 'liblinear', 'sag', 'saga'],\n",
    "    'max_iter': [100, 500, 1000],\n",
    "    'multi_class': ['auto', 'ovr', 'multinomial']\n",
    "}\n",
    "\n",
    "GS = GridSearchCV(estimator = LR, param_grid = parameters,scoring = 'accuracy',cv=10,n_jobs = -1) #n_jobs uses all the processor in ur computer\n",
    "GS.fit(X_train,y_train)"
   ]
  },
  {
   "cell_type": "code",
   "execution_count": 45,
   "id": "8d1ca2e5",
   "metadata": {},
   "outputs": [
    {
     "name": "stdout",
     "output_type": "stream",
     "text": [
      "Best Accuracy : 89.21 %\n",
      "Best Paramters :  {'C': 0.5, 'class_weight': None, 'fit_intercept': False, 'max_iter': 100, 'multi_class': 'auto', 'penalty': 'l1', 'solver': 'liblinear'}\n"
     ]
    }
   ],
   "source": [
    "best_accuracy = GS.best_score_\n",
    "best_parameters = GS.best_params_\n",
    "print(\"Best Accuracy : {:.2f} %\".format(best_accuracy*100))\n",
    "print(\"Best Paramters : \",best_parameters)"
   ]
  },
  {
   "cell_type": "code",
   "execution_count": 46,
   "id": "27d43649",
   "metadata": {},
   "outputs": [
    {
     "data": {
      "text/html": [
       "<style>#sk-container-id-2 {color: black;background-color: white;}#sk-container-id-2 pre{padding: 0;}#sk-container-id-2 div.sk-toggleable {background-color: white;}#sk-container-id-2 label.sk-toggleable__label {cursor: pointer;display: block;width: 100%;margin-bottom: 0;padding: 0.3em;box-sizing: border-box;text-align: center;}#sk-container-id-2 label.sk-toggleable__label-arrow:before {content: \"▸\";float: left;margin-right: 0.25em;color: #696969;}#sk-container-id-2 label.sk-toggleable__label-arrow:hover:before {color: black;}#sk-container-id-2 div.sk-estimator:hover label.sk-toggleable__label-arrow:before {color: black;}#sk-container-id-2 div.sk-toggleable__content {max-height: 0;max-width: 0;overflow: hidden;text-align: left;background-color: #f0f8ff;}#sk-container-id-2 div.sk-toggleable__content pre {margin: 0.2em;color: black;border-radius: 0.25em;background-color: #f0f8ff;}#sk-container-id-2 input.sk-toggleable__control:checked~div.sk-toggleable__content {max-height: 200px;max-width: 100%;overflow: auto;}#sk-container-id-2 input.sk-toggleable__control:checked~label.sk-toggleable__label-arrow:before {content: \"▾\";}#sk-container-id-2 div.sk-estimator input.sk-toggleable__control:checked~label.sk-toggleable__label {background-color: #d4ebff;}#sk-container-id-2 div.sk-label input.sk-toggleable__control:checked~label.sk-toggleable__label {background-color: #d4ebff;}#sk-container-id-2 input.sk-hidden--visually {border: 0;clip: rect(1px 1px 1px 1px);clip: rect(1px, 1px, 1px, 1px);height: 1px;margin: -1px;overflow: hidden;padding: 0;position: absolute;width: 1px;}#sk-container-id-2 div.sk-estimator {font-family: monospace;background-color: #f0f8ff;border: 1px dotted black;border-radius: 0.25em;box-sizing: border-box;margin-bottom: 0.5em;}#sk-container-id-2 div.sk-estimator:hover {background-color: #d4ebff;}#sk-container-id-2 div.sk-parallel-item::after {content: \"\";width: 100%;border-bottom: 1px solid gray;flex-grow: 1;}#sk-container-id-2 div.sk-label:hover label.sk-toggleable__label {background-color: #d4ebff;}#sk-container-id-2 div.sk-serial::before {content: \"\";position: absolute;border-left: 1px solid gray;box-sizing: border-box;top: 0;bottom: 0;left: 50%;z-index: 0;}#sk-container-id-2 div.sk-serial {display: flex;flex-direction: column;align-items: center;background-color: white;padding-right: 0.2em;padding-left: 0.2em;position: relative;}#sk-container-id-2 div.sk-item {position: relative;z-index: 1;}#sk-container-id-2 div.sk-parallel {display: flex;align-items: stretch;justify-content: center;background-color: white;position: relative;}#sk-container-id-2 div.sk-item::before, #sk-container-id-2 div.sk-parallel-item::before {content: \"\";position: absolute;border-left: 1px solid gray;box-sizing: border-box;top: 0;bottom: 0;left: 50%;z-index: -1;}#sk-container-id-2 div.sk-parallel-item {display: flex;flex-direction: column;z-index: 1;position: relative;background-color: white;}#sk-container-id-2 div.sk-parallel-item:first-child::after {align-self: flex-end;width: 50%;}#sk-container-id-2 div.sk-parallel-item:last-child::after {align-self: flex-start;width: 50%;}#sk-container-id-2 div.sk-parallel-item:only-child::after {width: 0;}#sk-container-id-2 div.sk-dashed-wrapped {border: 1px dashed gray;margin: 0 0.4em 0.5em 0.4em;box-sizing: border-box;padding-bottom: 0.4em;background-color: white;}#sk-container-id-2 div.sk-label label {font-family: monospace;font-weight: bold;display: inline-block;line-height: 1.2em;}#sk-container-id-2 div.sk-label-container {text-align: center;}#sk-container-id-2 div.sk-container {/* jupyter's `normalize.less` sets `[hidden] { display: none; }` but bootstrap.min.css set `[hidden] { display: none !important; }` so we also need the `!important` here to be able to override the default hidden behavior on the sphinx rendered scikit-learn.org. See: https://github.com/scikit-learn/scikit-learn/issues/21755 */display: inline-block !important;position: relative;}#sk-container-id-2 div.sk-text-repr-fallback {display: none;}</style><div id=\"sk-container-id-2\" class=\"sk-top-container\"><div class=\"sk-text-repr-fallback\"><pre>GridSearchCV(cv=10, estimator=SVC(kernel=&#x27;linear&#x27;), n_jobs=-1,\n",
       "             param_grid={&#x27;C&#x27;: [0.25, 0.5, 0.75, 1],\n",
       "                         &#x27;class_weight&#x27;: [None, &#x27;balanced&#x27;],\n",
       "                         &#x27;gamma&#x27;: [&#x27;scale&#x27;, &#x27;auto&#x27;], &#x27;kernel&#x27;: [&#x27;linear&#x27;]},\n",
       "             scoring=&#x27;accuracy&#x27;)</pre><b>In a Jupyter environment, please rerun this cell to show the HTML representation or trust the notebook. <br />On GitHub, the HTML representation is unable to render, please try loading this page with nbviewer.org.</b></div><div class=\"sk-container\" hidden><div class=\"sk-item sk-dashed-wrapped\"><div class=\"sk-label-container\"><div class=\"sk-label sk-toggleable\"><input class=\"sk-toggleable__control sk-hidden--visually\" id=\"sk-estimator-id-4\" type=\"checkbox\" ><label for=\"sk-estimator-id-4\" class=\"sk-toggleable__label sk-toggleable__label-arrow\">GridSearchCV</label><div class=\"sk-toggleable__content\"><pre>GridSearchCV(cv=10, estimator=SVC(kernel=&#x27;linear&#x27;), n_jobs=-1,\n",
       "             param_grid={&#x27;C&#x27;: [0.25, 0.5, 0.75, 1],\n",
       "                         &#x27;class_weight&#x27;: [None, &#x27;balanced&#x27;],\n",
       "                         &#x27;gamma&#x27;: [&#x27;scale&#x27;, &#x27;auto&#x27;], &#x27;kernel&#x27;: [&#x27;linear&#x27;]},\n",
       "             scoring=&#x27;accuracy&#x27;)</pre></div></div></div><div class=\"sk-parallel\"><div class=\"sk-parallel-item\"><div class=\"sk-item\"><div class=\"sk-label-container\"><div class=\"sk-label sk-toggleable\"><input class=\"sk-toggleable__control sk-hidden--visually\" id=\"sk-estimator-id-5\" type=\"checkbox\" ><label for=\"sk-estimator-id-5\" class=\"sk-toggleable__label sk-toggleable__label-arrow\">estimator: SVC</label><div class=\"sk-toggleable__content\"><pre>SVC(kernel=&#x27;linear&#x27;)</pre></div></div></div><div class=\"sk-serial\"><div class=\"sk-item\"><div class=\"sk-estimator sk-toggleable\"><input class=\"sk-toggleable__control sk-hidden--visually\" id=\"sk-estimator-id-6\" type=\"checkbox\" ><label for=\"sk-estimator-id-6\" class=\"sk-toggleable__label sk-toggleable__label-arrow\">SVC</label><div class=\"sk-toggleable__content\"><pre>SVC(kernel=&#x27;linear&#x27;)</pre></div></div></div></div></div></div></div></div></div></div>"
      ],
      "text/plain": [
       "GridSearchCV(cv=10, estimator=SVC(kernel='linear'), n_jobs=-1,\n",
       "             param_grid={'C': [0.25, 0.5, 0.75, 1],\n",
       "                         'class_weight': [None, 'balanced'],\n",
       "                         'gamma': ['scale', 'auto'], 'kernel': ['linear']},\n",
       "             scoring='accuracy')"
      ]
     },
     "execution_count": 46,
     "metadata": {},
     "output_type": "execute_result"
    }
   ],
   "source": [
    "from sklearn.model_selection import GridSearchCV\n",
    "parameters = {\n",
    "    'C': [0.25, 0.5, 0.75, 1],\n",
    "    'kernel': ['linear'],\n",
    "    'gamma': ['scale', 'auto'],\n",
    "    'class_weight': [None, 'balanced']\n",
    "}\n",
    "\n",
    "GS = GridSearchCV(estimator=SV_L, param_grid=parameters, scoring='accuracy', cv=10, n_jobs=-1)\n",
    "GS.fit(X_train, y_train)"
   ]
  },
  {
   "cell_type": "code",
   "execution_count": 47,
   "id": "0b5a476f",
   "metadata": {},
   "outputs": [
    {
     "name": "stdout",
     "output_type": "stream",
     "text": [
      "Best Accuracy : 88.21 %\n",
      "Best Paramters :  {'C': 1, 'class_weight': None, 'gamma': 'scale', 'kernel': 'linear'}\n"
     ]
    }
   ],
   "source": [
    "best_accuracy = GS.best_score_\n",
    "best_parameters = GS.best_params_\n",
    "print(\"Best Accuracy : {:.2f} %\".format(best_accuracy*100))\n",
    "print(\"Best Paramters : \",best_parameters)"
   ]
  },
  {
   "cell_type": "markdown",
   "id": "edc9a963",
   "metadata": {},
   "source": [
    "# Model Building"
   ]
  },
  {
   "cell_type": "code",
   "execution_count": 48,
   "id": "8b71b08c",
   "metadata": {},
   "outputs": [
    {
     "data": {
      "text/html": [
       "<style>#sk-container-id-3 {color: black;background-color: white;}#sk-container-id-3 pre{padding: 0;}#sk-container-id-3 div.sk-toggleable {background-color: white;}#sk-container-id-3 label.sk-toggleable__label {cursor: pointer;display: block;width: 100%;margin-bottom: 0;padding: 0.3em;box-sizing: border-box;text-align: center;}#sk-container-id-3 label.sk-toggleable__label-arrow:before {content: \"▸\";float: left;margin-right: 0.25em;color: #696969;}#sk-container-id-3 label.sk-toggleable__label-arrow:hover:before {color: black;}#sk-container-id-3 div.sk-estimator:hover label.sk-toggleable__label-arrow:before {color: black;}#sk-container-id-3 div.sk-toggleable__content {max-height: 0;max-width: 0;overflow: hidden;text-align: left;background-color: #f0f8ff;}#sk-container-id-3 div.sk-toggleable__content pre {margin: 0.2em;color: black;border-radius: 0.25em;background-color: #f0f8ff;}#sk-container-id-3 input.sk-toggleable__control:checked~div.sk-toggleable__content {max-height: 200px;max-width: 100%;overflow: auto;}#sk-container-id-3 input.sk-toggleable__control:checked~label.sk-toggleable__label-arrow:before {content: \"▾\";}#sk-container-id-3 div.sk-estimator input.sk-toggleable__control:checked~label.sk-toggleable__label {background-color: #d4ebff;}#sk-container-id-3 div.sk-label input.sk-toggleable__control:checked~label.sk-toggleable__label {background-color: #d4ebff;}#sk-container-id-3 input.sk-hidden--visually {border: 0;clip: rect(1px 1px 1px 1px);clip: rect(1px, 1px, 1px, 1px);height: 1px;margin: -1px;overflow: hidden;padding: 0;position: absolute;width: 1px;}#sk-container-id-3 div.sk-estimator {font-family: monospace;background-color: #f0f8ff;border: 1px dotted black;border-radius: 0.25em;box-sizing: border-box;margin-bottom: 0.5em;}#sk-container-id-3 div.sk-estimator:hover {background-color: #d4ebff;}#sk-container-id-3 div.sk-parallel-item::after {content: \"\";width: 100%;border-bottom: 1px solid gray;flex-grow: 1;}#sk-container-id-3 div.sk-label:hover label.sk-toggleable__label {background-color: #d4ebff;}#sk-container-id-3 div.sk-serial::before {content: \"\";position: absolute;border-left: 1px solid gray;box-sizing: border-box;top: 0;bottom: 0;left: 50%;z-index: 0;}#sk-container-id-3 div.sk-serial {display: flex;flex-direction: column;align-items: center;background-color: white;padding-right: 0.2em;padding-left: 0.2em;position: relative;}#sk-container-id-3 div.sk-item {position: relative;z-index: 1;}#sk-container-id-3 div.sk-parallel {display: flex;align-items: stretch;justify-content: center;background-color: white;position: relative;}#sk-container-id-3 div.sk-item::before, #sk-container-id-3 div.sk-parallel-item::before {content: \"\";position: absolute;border-left: 1px solid gray;box-sizing: border-box;top: 0;bottom: 0;left: 50%;z-index: -1;}#sk-container-id-3 div.sk-parallel-item {display: flex;flex-direction: column;z-index: 1;position: relative;background-color: white;}#sk-container-id-3 div.sk-parallel-item:first-child::after {align-self: flex-end;width: 50%;}#sk-container-id-3 div.sk-parallel-item:last-child::after {align-self: flex-start;width: 50%;}#sk-container-id-3 div.sk-parallel-item:only-child::after {width: 0;}#sk-container-id-3 div.sk-dashed-wrapped {border: 1px dashed gray;margin: 0 0.4em 0.5em 0.4em;box-sizing: border-box;padding-bottom: 0.4em;background-color: white;}#sk-container-id-3 div.sk-label label {font-family: monospace;font-weight: bold;display: inline-block;line-height: 1.2em;}#sk-container-id-3 div.sk-label-container {text-align: center;}#sk-container-id-3 div.sk-container {/* jupyter's `normalize.less` sets `[hidden] { display: none; }` but bootstrap.min.css set `[hidden] { display: none !important; }` so we also need the `!important` here to be able to override the default hidden behavior on the sphinx rendered scikit-learn.org. See: https://github.com/scikit-learn/scikit-learn/issues/21755 */display: inline-block !important;position: relative;}#sk-container-id-3 div.sk-text-repr-fallback {display: none;}</style><div id=\"sk-container-id-3\" class=\"sk-top-container\"><div class=\"sk-text-repr-fallback\"><pre>LogisticRegression(C=0.5, fit_intercept=False, penalty=&#x27;l1&#x27;, random_state=0,\n",
       "                   solver=&#x27;liblinear&#x27;)</pre><b>In a Jupyter environment, please rerun this cell to show the HTML representation or trust the notebook. <br />On GitHub, the HTML representation is unable to render, please try loading this page with nbviewer.org.</b></div><div class=\"sk-container\" hidden><div class=\"sk-item\"><div class=\"sk-estimator sk-toggleable\"><input class=\"sk-toggleable__control sk-hidden--visually\" id=\"sk-estimator-id-7\" type=\"checkbox\" checked><label for=\"sk-estimator-id-7\" class=\"sk-toggleable__label sk-toggleable__label-arrow\">LogisticRegression</label><div class=\"sk-toggleable__content\"><pre>LogisticRegression(C=0.5, fit_intercept=False, penalty=&#x27;l1&#x27;, random_state=0,\n",
       "                   solver=&#x27;liblinear&#x27;)</pre></div></div></div></div></div>"
      ],
      "text/plain": [
       "LogisticRegression(C=0.5, fit_intercept=False, penalty='l1', random_state=0,\n",
       "                   solver='liblinear')"
      ]
     },
     "execution_count": 48,
     "metadata": {},
     "output_type": "execute_result"
    }
   ],
   "source": [
    "from sklearn.linear_model import LogisticRegression\n",
    "LR = LogisticRegression(C=0.5,class_weight=None,fit_intercept = False,max_iter = 100,multi_class=\"auto\",penalty = \"l1\",solver = \"liblinear\",random_state=0)\n",
    "LR.fit(X_train,y_train)"
   ]
  },
  {
   "cell_type": "code",
   "execution_count": 49,
   "id": "4de1393b",
   "metadata": {
    "scrolled": true
   },
   "outputs": [
    {
     "data": {
      "text/plain": [
       "array([0, 1, 0, 0, 0, 0, 1, 0, 0, 1, 1, 1, 0, 1, 1, 0, 1, 1, 1, 0, 1, 0,\n",
       "       1, 1, 0, 0, 1, 1, 0, 1, 0, 0, 0, 0, 0, 0, 1, 1, 1, 1, 1, 0, 0, 0,\n",
       "       0, 0, 1, 0, 1])"
      ]
     },
     "execution_count": 49,
     "metadata": {},
     "output_type": "execute_result"
    }
   ],
   "source": [
    "y_pred = LR.predict(X_test)\n",
    "y_pred"
   ]
  },
  {
   "cell_type": "markdown",
   "id": "25145d8e",
   "metadata": {},
   "source": [
    "# Metrics"
   ]
  },
  {
   "cell_type": "code",
   "execution_count": 50,
   "id": "8502336d",
   "metadata": {},
   "outputs": [
    {
     "name": "stdout",
     "output_type": "stream",
     "text": [
      "[[0 0]\n",
      " [1 1]\n",
      " [0 0]\n",
      " [0 0]\n",
      " [0 0]\n",
      " [0 0]\n",
      " [1 1]\n",
      " [0 0]\n",
      " [0 1]\n",
      " [1 1]\n",
      " [1 1]\n",
      " [1 1]\n",
      " [0 1]\n",
      " [1 1]\n",
      " [1 1]\n",
      " [0 1]\n",
      " [1 1]\n",
      " [1 1]\n",
      " [1 1]\n",
      " [0 0]\n",
      " [1 1]\n",
      " [0 1]\n",
      " [1 0]\n",
      " [1 1]\n",
      " [0 0]\n",
      " [0 0]\n",
      " [1 1]\n",
      " [1 1]\n",
      " [0 0]\n",
      " [1 1]\n",
      " [0 0]\n",
      " [0 0]\n",
      " [0 0]\n",
      " [0 0]\n",
      " [0 0]\n",
      " [0 0]\n",
      " [1 1]\n",
      " [1 1]\n",
      " [1 1]\n",
      " [1 1]\n",
      " [1 1]\n",
      " [0 0]\n",
      " [0 0]\n",
      " [0 0]\n",
      " [0 0]\n",
      " [0 0]\n",
      " [1 0]\n",
      " [0 0]\n",
      " [1 1]]\n"
     ]
    }
   ],
   "source": [
    "print(np.concatenate((y_pred.reshape(len(y_pred),1),y_test.reshape(len(y_test),1)),1))\n",
    "\n",
    "#Side by side view of predicted vs original value"
   ]
  },
  {
   "cell_type": "code",
   "execution_count": 51,
   "id": "8cc6dad0",
   "metadata": {},
   "outputs": [
    {
     "data": {
      "text/plain": [
       "0.8775510204081632"
      ]
     },
     "execution_count": 51,
     "metadata": {},
     "output_type": "execute_result"
    }
   ],
   "source": [
    "from sklearn.metrics import accuracy_score,confusion_matrix,classification_report\n",
    "accuracy_score(y_test,y_pred)"
   ]
  },
  {
   "cell_type": "code",
   "execution_count": 52,
   "id": "fcf68598",
   "metadata": {},
   "outputs": [
    {
     "name": "stdout",
     "output_type": "stream",
     "text": [
      "              precision    recall  f1-score   support\n",
      "\n",
      "           0       0.85      0.92      0.88        24\n",
      "           1       0.91      0.84      0.87        25\n",
      "\n",
      "    accuracy                           0.88        49\n",
      "   macro avg       0.88      0.88      0.88        49\n",
      "weighted avg       0.88      0.88      0.88        49\n",
      "\n"
     ]
    }
   ],
   "source": [
    "print(classification_report(y_test,y_pred))"
   ]
  },
  {
   "cell_type": "code",
   "execution_count": 53,
   "id": "794b8b4e",
   "metadata": {
    "scrolled": true
   },
   "outputs": [
    {
     "name": "stdout",
     "output_type": "stream",
     "text": [
      "AUC: 0.8783333333333333\n"
     ]
    }
   ],
   "source": [
    "from sklearn.metrics import roc_curve, roc_auc_score\n",
    "auc = roc_auc_score(y_test, y_pred)\n",
    "print(\"AUC:\", auc)"
   ]
  },
  {
   "cell_type": "code",
   "execution_count": 54,
   "id": "b2ed6a66",
   "metadata": {},
   "outputs": [
    {
     "data": {
      "image/png": "[encoded data removed]",
      "text/plain": [
       "<Figure size 800x600 with 1 Axes>"
      ]
     },
     "metadata": {},
     "output_type": "display_data"
    }
   ],
   "source": [
    "fpr, tpr, thresholds = roc_curve(y_test, y_pred)\n",
    "\n",
    "# Plot ROC curve\n",
    "plt.figure(figsize=(8, 6))\n",
    "plt.plot(fpr, tpr, label='ROC curve (AUC = %0.2f)' % auc)\n",
    "plt.plot([0, 1], [0, 1], 'k--')  # Random guess line\n",
    "plt.xlim([0.0, 1.0])\n",
    "plt.ylim([0.0, 1.05])\n",
    "plt.xlabel('False Positive Rate')\n",
    "plt.ylabel('True Positive Rate')\n",
    "plt.title('Receiver Operating Characteristic (ROC)')\n",
    "plt.legend(loc=\"lower right\")\n",
    "plt.show()"
   ]
  },
  {
   "cell_type": "code",
   "execution_count": 55,
   "id": "70ae751e",
   "metadata": {},
   "outputs": [
    {
     "data": {
      "text/plain": [
       "array([[22,  2],\n",
       "       [ 4, 21]], dtype=int64)"
      ]
     },
     "execution_count": 55,
     "metadata": {},
     "output_type": "execute_result"
    }
   ],
   "source": [
    "confusion_matrix(y_test,y_pred)"
   ]
  },
  {
   "cell_type": "code",
   "execution_count": 56,
   "id": "3e9d6e7d",
   "metadata": {},
   "outputs": [
    {
     "name": "stdout",
     "output_type": "stream",
     "text": [
      "Accuracy : 89.21 %\n",
      "Standard Deviation : 0.08 %\n"
     ]
    }
   ],
   "source": [
    "from sklearn.model_selection import cross_val_score\n",
    "accuracies = cross_val_score(estimator = LR, X = X_train, y = y_train,cv=10) #cv is no of folds\n",
    "print(\"Accuracy : {:.2f} %\".format(accuracies.mean()*100))\n",
    "print(\"Standard Deviation : {:.2f} %\".format(accuracies.std()))"
   ]
  },
  {
   "cell_type": "markdown",
   "id": "c47a074b",
   "metadata": {},
   "source": [
    "# Single Prediction"
   ]
  },
  {
   "cell_type": "code",
   "execution_count": 57,
   "id": "71cea086",
   "metadata": {},
   "outputs": [
    {
     "name": "stdout",
     "output_type": "stream",
     "text": [
      "Zombie\n"
     ]
    }
   ],
   "source": [
    "#Let's predict for a person of age 69 and has access to water is 5L and who lives in suburban and has no food but have acces to medication and sanitation\n",
    "\n",
    "if LR.predict(SS.transform([[69,5,0,1,0,0,1,1,0,1,0]])) == 1:\n",
    "    print(\"Zombie\")\n",
    "else:\n",
    "    print(\"Human\")"
   ]
  },
  {
   "cell_type": "markdown",
   "id": "6a61f9d4",
   "metadata": {},
   "source": [
    "# Model Deployment"
   ]
  },
  {
   "cell_type": "code",
   "execution_count": 41,
   "id": "185a5930",
   "metadata": {},
   "outputs": [],
   "source": [
    "import pickle\n",
    "pickle.dump(LR,open(\"model.pkl\",\"wb\"))"
   ]
  },
  {
   "cell_type": "code",
   "execution_count": 42,
   "id": "46b3a29b",
   "metadata": {},
   "outputs": [],
   "source": [
    "pickle.dump(SS, open(\"scaler.pkl\", \"wb\"))"
   ]
  }
 ],
 "metadata": {
  "kernelspec": {
   "display_name": "Python 3 (ipykernel)",
   "language": "python",
   "name": "python3"
  },
  "language_info": {
   "codemirror_mode": {
    "name": "ipython",
    "version": 3
   },
   "file_extension": ".py",
   "mimetype": "text/x-python",
   "name": "python",
   "nbconvert_exporter": "python",
   "pygments_lexer": "ipython3",
   "version": "3.10.9"
  }
 },
 "nbformat": 4,
 "nbformat_minor": 5
}
